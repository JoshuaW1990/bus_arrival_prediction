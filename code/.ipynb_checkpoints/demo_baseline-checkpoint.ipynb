{
 "cells": [
  {
   "cell_type": "markdown",
   "metadata": {},
   "source": [
    "# Import module"
   ]
  },
  {
   "cell_type": "code",
   "execution_count": 1,
   "metadata": {
    "collapsed": true
   },
   "outputs": [],
   "source": [
    "%matplotlib inline"
   ]
  },
  {
   "cell_type": "code",
   "execution_count": 2,
   "metadata": {
    "collapsed": true
   },
   "outputs": [],
   "source": [
    "import pandas as pd\n",
    "import numpy as np\n",
    "import csv\n",
    "import os\n",
    "import calendar as cal\n",
    "import matplotlib.pyplot as plt\n",
    "import urllib"
   ]
  },
  {
   "cell_type": "markdown",
   "metadata": {},
   "source": [
    "# Data preprocess\n",
    "\n",
    "**use the state island as the example**\n",
    "\n",
    "1. select a single route and direction from a specific district from the GTFS\n",
    "2. find the corresponding `trip_id` and `service_id`\n",
    "3. find the corresponding dates of the `service_id`\n",
    "4. Download the historical file and prepare the data analysis"
   ]
  },
  {
   "cell_type": "markdown",
   "metadata": {},
   "source": [
    "## 1. select a single route and direction from a specific district from the GTFS\n"
   ]
  },
  {
   "cell_type": "markdown",
   "metadata": {},
   "source": [
    "read the data into dataframe"
   ]
  },
  {
   "cell_type": "code",
   "execution_count": 3,
   "metadata": {
    "collapsed": false
   },
   "outputs": [
    {
     "name": "stdout",
     "output_type": "stream",
     "text": [
      "<class 'pandas.core.frame.DataFrame'>\n",
      "RangeIndex: 241 entries, 0 to 240\n",
      "Data columns (total 9 columns):\n",
      "route_id            241 non-null object\n",
      "agency_id           241 non-null object\n",
      "route_short_name    241 non-null object\n",
      "route_long_name     241 non-null object\n",
      "route_desc          241 non-null object\n",
      "route_type          241 non-null int64\n",
      "route_url           239 non-null object\n",
      "route_color         241 non-null object\n",
      "route_text_color    241 non-null object\n",
      "dtypes: int64(1), object(8)\n",
      "memory usage: 17.0+ KB\n"
     ]
    }
   ],
   "source": [
    "routes = pd.read_csv('../data/GTFS/gtfs/routes.txt')\n",
    "routes.info()"
   ]
  },
  {
   "cell_type": "code",
   "execution_count": 4,
   "metadata": {
    "collapsed": false
   },
   "outputs": [
    {
     "name": "stdout",
     "output_type": "stream",
     "text": [
      "<class 'pandas.core.frame.DataFrame'>\n",
      "RangeIndex: 15604 entries, 0 to 15603\n",
      "Data columns (total 6 columns):\n",
      "route_id         15604 non-null object\n",
      "service_id       15604 non-null object\n",
      "trip_id          15604 non-null object\n",
      "trip_headsign    15604 non-null object\n",
      "direction_id     15604 non-null int64\n",
      "shape_id         15604 non-null object\n",
      "dtypes: int64(1), object(5)\n",
      "memory usage: 731.5+ KB\n"
     ]
    }
   ],
   "source": [
    "trips = pd.read_csv('../data/GTFS/gtfs/trips.txt')\n",
    "trips.info()"
   ]
  },
  {
   "cell_type": "code",
   "execution_count": 5,
   "metadata": {
    "collapsed": false
   },
   "outputs": [
    {
     "name": "stdout",
     "output_type": "stream",
     "text": [
      "<class 'pandas.core.frame.DataFrame'>\n",
      "RangeIndex: 60 entries, 0 to 59\n",
      "Data columns (total 3 columns):\n",
      "service_id        60 non-null object\n",
      "date              60 non-null int64\n",
      "exception_type    60 non-null int64\n",
      "dtypes: int64(2), object(1)\n",
      "memory usage: 1.5+ KB\n"
     ]
    }
   ],
   "source": [
    "calendar_dates = pd.read_csv('../data/GTFS/gtfs/calendar_dates.txt')\n",
    "calendar_dates.info()"
   ]
  },
  {
   "cell_type": "code",
   "execution_count": 6,
   "metadata": {
    "collapsed": false
   },
   "outputs": [
    {
     "name": "stdout",
     "output_type": "stream",
     "text": [
      "<class 'pandas.core.frame.DataFrame'>\n",
      "RangeIndex: 16 entries, 0 to 15\n",
      "Data columns (total 10 columns):\n",
      "service_id    16 non-null object\n",
      "monday        16 non-null int64\n",
      "tuesday       16 non-null int64\n",
      "wednesday     16 non-null int64\n",
      "thursday      16 non-null int64\n",
      "friday        16 non-null int64\n",
      "saturday      16 non-null int64\n",
      "sunday        16 non-null int64\n",
      "start_date    16 non-null int64\n",
      "end_date      16 non-null int64\n",
      "dtypes: int64(9), object(1)\n",
      "memory usage: 1.3+ KB\n"
     ]
    }
   ],
   "source": [
    "calendar = pd.read_csv('../data/GTFS/gtfs/calendar.txt')\n",
    "calendar.info()"
   ]
  },
  {
   "cell_type": "code",
   "execution_count": 7,
   "metadata": {
    "collapsed": false
   },
   "outputs": [
    {
     "name": "stdout",
     "output_type": "stream",
     "text": [
      "<class 'pandas.core.frame.DataFrame'>\n",
      "RangeIndex: 823708 entries, 0 to 823707\n",
      "Data columns (total 7 columns):\n",
      "trip_id           823708 non-null object\n",
      "arrival_time      823708 non-null object\n",
      "departure_time    823708 non-null object\n",
      "stop_id           823708 non-null int64\n",
      "stop_sequence     823708 non-null int64\n",
      "pickup_type       823708 non-null int64\n",
      "drop_off_type     823708 non-null int64\n",
      "dtypes: int64(4), object(3)\n",
      "memory usage: 44.0+ MB\n"
     ]
    }
   ],
   "source": [
    "stop_times = pd.read_csv('../data/GTFS/gtfs/stop_times.txt')\n",
    "stop_times.info()"
   ]
  },
  {
   "cell_type": "markdown",
   "metadata": {},
   "source": [
    "select a single route and a direction"
   ]
  },
  {
   "cell_type": "code",
   "execution_count": 8,
   "metadata": {
    "collapsed": false
   },
   "outputs": [
    {
     "name": "stdout",
     "output_type": "stream",
     "text": [
      "X14\n",
      "0\n"
     ]
    }
   ],
   "source": [
    "route_id = trips.loc[0, 'route_id']\n",
    "directon_id = trips.loc[0, 'direction_id']\n",
    "print route_id\n",
    "print directon_id"
   ]
  },
  {
   "cell_type": "markdown",
   "metadata": {},
   "source": [
    "## 2. find the corresponding trip_id and service_id"
   ]
  },
  {
   "cell_type": "markdown",
   "metadata": {},
   "source": [
    "find the trip_id"
   ]
  },
  {
   "cell_type": "code",
   "execution_count": 9,
   "metadata": {
    "collapsed": false
   },
   "outputs": [
    {
     "name": "stdout",
     "output_type": "stream",
     "text": [
      "<class 'pandas.core.frame.DataFrame'>\n",
      "Int64Index: 44 entries, 0 to 14124\n",
      "Data columns (total 6 columns):\n",
      "route_id         44 non-null object\n",
      "service_id       44 non-null object\n",
      "trip_id          44 non-null object\n",
      "trip_headsign    44 non-null object\n",
      "direction_id     44 non-null int64\n",
      "shape_id         44 non-null object\n",
      "dtypes: int64(1), object(5)\n",
      "memory usage: 2.4+ KB\n"
     ]
    }
   ],
   "source": [
    "select_trips = trips[(trips.route_id == route_id) & (trips.direction_id == directon_id)]\n",
    "select_trips.info()"
   ]
  },
  {
   "cell_type": "markdown",
   "metadata": {},
   "source": [
    "find the service_id"
   ]
  },
  {
   "cell_type": "code",
   "execution_count": 10,
   "metadata": {
    "collapsed": false
   },
   "outputs": [
    {
     "data": {
      "text/html": [
       "<div>\n",
       "<table border=\"1\" class=\"dataframe\">\n",
       "  <thead>\n",
       "    <tr style=\"text-align: right;\">\n",
       "      <th></th>\n",
       "      <th>route_id</th>\n",
       "      <th>service_id</th>\n",
       "      <th>trip_id</th>\n",
       "      <th>trip_headsign</th>\n",
       "      <th>direction_id</th>\n",
       "      <th>shape_id</th>\n",
       "    </tr>\n",
       "  </thead>\n",
       "  <tbody>\n",
       "    <tr>\n",
       "      <th>0</th>\n",
       "      <td>X14</td>\n",
       "      <td>CA_H6-Weekday</td>\n",
       "      <td>CA_H6-Weekday-031500_MISC_402</td>\n",
       "      <td>W.MIDTOWN 57 ST via WATER ST via MADISON</td>\n",
       "      <td>0</td>\n",
       "      <td>X140122</td>\n",
       "    </tr>\n",
       "    <tr>\n",
       "      <th>1</th>\n",
       "      <td>X14</td>\n",
       "      <td>CA_H6-Weekday</td>\n",
       "      <td>CA_H6-Weekday-037500_MISC_461</td>\n",
       "      <td>W.MIDTOWN 57 ST via WATER ST via MADISON</td>\n",
       "      <td>0</td>\n",
       "      <td>X140122</td>\n",
       "    </tr>\n",
       "    <tr>\n",
       "      <th>2</th>\n",
       "      <td>X14</td>\n",
       "      <td>CA_H6-Weekday</td>\n",
       "      <td>CA_H6-Weekday-041500_MISC_481</td>\n",
       "      <td>W.MIDTOWN 57 ST via WATER ST via MADISON</td>\n",
       "      <td>0</td>\n",
       "      <td>X140122</td>\n",
       "    </tr>\n",
       "    <tr>\n",
       "      <th>3</th>\n",
       "      <td>X14</td>\n",
       "      <td>CA_H6-Weekday</td>\n",
       "      <td>CA_H6-Weekday-043500_MISC_491</td>\n",
       "      <td>W.MIDTOWN 57 ST via WATER ST via MADISON</td>\n",
       "      <td>0</td>\n",
       "      <td>X140122</td>\n",
       "    </tr>\n",
       "    <tr>\n",
       "      <th>7</th>\n",
       "      <td>X14</td>\n",
       "      <td>CA_H6-Weekday</td>\n",
       "      <td>CA_H6-Weekday-033500_MISC_442</td>\n",
       "      <td>W.MIDTOWN 57 ST via WATER ST via MADISON</td>\n",
       "      <td>0</td>\n",
       "      <td>X140122</td>\n",
       "    </tr>\n",
       "    <tr>\n",
       "      <th>9</th>\n",
       "      <td>X14</td>\n",
       "      <td>CA_H6-Weekday</td>\n",
       "      <td>CA_H6-Weekday-047500_MISC_500</td>\n",
       "      <td>W.MIDTOWN 57 ST via WATER ST via MADISON</td>\n",
       "      <td>0</td>\n",
       "      <td>X140122</td>\n",
       "    </tr>\n",
       "    <tr>\n",
       "      <th>11</th>\n",
       "      <td>X14</td>\n",
       "      <td>CA_H6-Weekday</td>\n",
       "      <td>CA_H6-Weekday-035500_MISC_451</td>\n",
       "      <td>W.MIDTOWN 57 ST via WATER ST via MADISON</td>\n",
       "      <td>0</td>\n",
       "      <td>X140122</td>\n",
       "    </tr>\n",
       "    <tr>\n",
       "      <th>14</th>\n",
       "      <td>X14</td>\n",
       "      <td>CA_H6-Weekday</td>\n",
       "      <td>CA_H6-Weekday-050500_MISC_504</td>\n",
       "      <td>W.MIDTOWN 57 ST via WATER ST via MADISON</td>\n",
       "      <td>0</td>\n",
       "      <td>X140122</td>\n",
       "    </tr>\n",
       "    <tr>\n",
       "      <th>15</th>\n",
       "      <td>X14</td>\n",
       "      <td>CA_H6-Weekday</td>\n",
       "      <td>CA_H6-Weekday-039500_MISC_474</td>\n",
       "      <td>W.MIDTOWN 57 ST via WATER ST via MADISON</td>\n",
       "      <td>0</td>\n",
       "      <td>X140122</td>\n",
       "    </tr>\n",
       "    <tr>\n",
       "      <th>16</th>\n",
       "      <td>X14</td>\n",
       "      <td>CA_H6-Weekday</td>\n",
       "      <td>CA_H6-Weekday-045500_MISC_495</td>\n",
       "      <td>W.MIDTOWN 57 ST via WATER ST via MADISON</td>\n",
       "      <td>0</td>\n",
       "      <td>X140122</td>\n",
       "    </tr>\n",
       "    <tr>\n",
       "      <th>3707</th>\n",
       "      <td>X14</td>\n",
       "      <td>CA_A6-Weekday</td>\n",
       "      <td>CA_A6-Weekday-031500_X14_301</td>\n",
       "      <td>W.MIDTOWN 57 ST via WATER ST via MADISON</td>\n",
       "      <td>0</td>\n",
       "      <td>X140122</td>\n",
       "    </tr>\n",
       "    <tr>\n",
       "      <th>3708</th>\n",
       "      <td>X14</td>\n",
       "      <td>CA_A6-Weekday</td>\n",
       "      <td>CA_A6-Weekday-049000_MISC_479</td>\n",
       "      <td>W.MIDTOWN 57 ST via WATER ST via MADISON</td>\n",
       "      <td>0</td>\n",
       "      <td>X140122</td>\n",
       "    </tr>\n",
       "    <tr>\n",
       "      <th>3709</th>\n",
       "      <td>X14</td>\n",
       "      <td>CA_A6-Weekday</td>\n",
       "      <td>CA_A6-Weekday-037800_X14_305</td>\n",
       "      <td>W.MIDTOWN 57 ST via WATER ST via MADISON</td>\n",
       "      <td>0</td>\n",
       "      <td>X140122</td>\n",
       "    </tr>\n",
       "    <tr>\n",
       "      <th>3710</th>\n",
       "      <td>X14</td>\n",
       "      <td>CA_A6-Weekday</td>\n",
       "      <td>CA_A6-Weekday-039000_X14_306</td>\n",
       "      <td>W.MIDTOWN 57 ST via WATER ST via MADISON</td>\n",
       "      <td>0</td>\n",
       "      <td>X140122</td>\n",
       "    </tr>\n",
       "    <tr>\n",
       "      <th>3711</th>\n",
       "      <td>X14</td>\n",
       "      <td>CA_A6-Weekday</td>\n",
       "      <td>CA_A6-Weekday-040000_X14_307</td>\n",
       "      <td>W.MIDTOWN 57 ST via WATER ST via MADISON</td>\n",
       "      <td>0</td>\n",
       "      <td>X140122</td>\n",
       "    </tr>\n",
       "    <tr>\n",
       "      <th>3712</th>\n",
       "      <td>X14</td>\n",
       "      <td>CA_A6-Weekday</td>\n",
       "      <td>CA_A6-Weekday-042000_X14_309</td>\n",
       "      <td>W.MIDTOWN 57 ST via WATER ST via MADISON</td>\n",
       "      <td>0</td>\n",
       "      <td>X140122</td>\n",
       "    </tr>\n",
       "    <tr>\n",
       "      <th>3713</th>\n",
       "      <td>X14</td>\n",
       "      <td>CA_A6-Weekday</td>\n",
       "      <td>CA_A6-Weekday-044000_X14_310</td>\n",
       "      <td>W.MIDTOWN 57 ST via WATER ST via MADISON</td>\n",
       "      <td>0</td>\n",
       "      <td>X140122</td>\n",
       "    </tr>\n",
       "    <tr>\n",
       "      <th>3714</th>\n",
       "      <td>X14</td>\n",
       "      <td>CA_A6-Weekday</td>\n",
       "      <td>CA_A6-Weekday-046000_MISC_474</td>\n",
       "      <td>W.MIDTOWN 57 ST via WATER ST via MADISON</td>\n",
       "      <td>0</td>\n",
       "      <td>X140122</td>\n",
       "    </tr>\n",
       "    <tr>\n",
       "      <th>3720</th>\n",
       "      <td>X14</td>\n",
       "      <td>CA_A6-Weekday</td>\n",
       "      <td>CA_A6-Weekday-033300_X14_302</td>\n",
       "      <td>W.MIDTOWN 57 ST via WATER ST via MADISON</td>\n",
       "      <td>0</td>\n",
       "      <td>X140122</td>\n",
       "    </tr>\n",
       "    <tr>\n",
       "      <th>3723</th>\n",
       "      <td>X14</td>\n",
       "      <td>CA_A6-Weekday</td>\n",
       "      <td>CA_A6-Weekday-036300_X14_304</td>\n",
       "      <td>W.MIDTOWN 57 ST via WATER ST via MADISON</td>\n",
       "      <td>0</td>\n",
       "      <td>X140122</td>\n",
       "    </tr>\n",
       "    <tr>\n",
       "      <th>3724</th>\n",
       "      <td>X14</td>\n",
       "      <td>CA_A6-Weekday</td>\n",
       "      <td>CA_A6-Weekday-048000_MISC_478</td>\n",
       "      <td>W.MIDTOWN 57 ST via WATER ST via MADISON</td>\n",
       "      <td>0</td>\n",
       "      <td>X140122</td>\n",
       "    </tr>\n",
       "    <tr>\n",
       "      <th>3729</th>\n",
       "      <td>X14</td>\n",
       "      <td>CA_A6-Weekday</td>\n",
       "      <td>CA_A6-Weekday-050500_MISC_481</td>\n",
       "      <td>W.MIDTOWN 57 ST via WATER ST via MADISON</td>\n",
       "      <td>0</td>\n",
       "      <td>X140122</td>\n",
       "    </tr>\n",
       "    <tr>\n",
       "      <th>3730</th>\n",
       "      <td>X14</td>\n",
       "      <td>CA_A6-Weekday</td>\n",
       "      <td>CA_A6-Weekday-041000_X14_308</td>\n",
       "      <td>W.MIDTOWN 57 ST via WATER ST via MADISON</td>\n",
       "      <td>0</td>\n",
       "      <td>X140122</td>\n",
       "    </tr>\n",
       "    <tr>\n",
       "      <th>3731</th>\n",
       "      <td>X14</td>\n",
       "      <td>CA_A6-Weekday</td>\n",
       "      <td>CA_A6-Weekday-045000_X14_311</td>\n",
       "      <td>W.MIDTOWN 57 ST via WATER ST via MADISON</td>\n",
       "      <td>0</td>\n",
       "      <td>X140122</td>\n",
       "    </tr>\n",
       "    <tr>\n",
       "      <th>3732</th>\n",
       "      <td>X14</td>\n",
       "      <td>CA_A6-Weekday</td>\n",
       "      <td>CA_A6-Weekday-034800_X14_303</td>\n",
       "      <td>W.MIDTOWN 57 ST via WATER ST via MADISON</td>\n",
       "      <td>0</td>\n",
       "      <td>X140122</td>\n",
       "    </tr>\n",
       "    <tr>\n",
       "      <th>8317</th>\n",
       "      <td>X14</td>\n",
       "      <td>MA_A6-Weekday</td>\n",
       "      <td>MA_A6-Weekday-043000_MISC_651</td>\n",
       "      <td>W.MIDTOWN 57 ST via WATER ST via MADISON</td>\n",
       "      <td>0</td>\n",
       "      <td>X140122</td>\n",
       "    </tr>\n",
       "    <tr>\n",
       "      <th>8318</th>\n",
       "      <td>X14</td>\n",
       "      <td>MA_A6-Weekday</td>\n",
       "      <td>MA_A6-Weekday-047000_MISC_660</td>\n",
       "      <td>W.MIDTOWN 57 ST via WATER ST via MADISON</td>\n",
       "      <td>0</td>\n",
       "      <td>X140122</td>\n",
       "    </tr>\n",
       "    <tr>\n",
       "      <th>11921</th>\n",
       "      <td>X14</td>\n",
       "      <td>CA_A6-Weekday-SDon</td>\n",
       "      <td>CA_A6-Weekday-SDon-031500_X14_301</td>\n",
       "      <td>W.MIDTOWN 57 ST via WATER ST via MADISON</td>\n",
       "      <td>0</td>\n",
       "      <td>X140122</td>\n",
       "    </tr>\n",
       "    <tr>\n",
       "      <th>11922</th>\n",
       "      <td>X14</td>\n",
       "      <td>CA_A6-Weekday-SDon</td>\n",
       "      <td>CA_A6-Weekday-SDon-049000_MISC_479</td>\n",
       "      <td>W.MIDTOWN 57 ST via WATER ST via MADISON</td>\n",
       "      <td>0</td>\n",
       "      <td>X140122</td>\n",
       "    </tr>\n",
       "    <tr>\n",
       "      <th>11923</th>\n",
       "      <td>X14</td>\n",
       "      <td>CA_A6-Weekday-SDon</td>\n",
       "      <td>CA_A6-Weekday-SDon-037800_X14_305</td>\n",
       "      <td>W.MIDTOWN 57 ST via WATER ST via MADISON</td>\n",
       "      <td>0</td>\n",
       "      <td>X140122</td>\n",
       "    </tr>\n",
       "    <tr>\n",
       "      <th>11924</th>\n",
       "      <td>X14</td>\n",
       "      <td>CA_A6-Weekday-SDon</td>\n",
       "      <td>CA_A6-Weekday-SDon-039000_X14_306</td>\n",
       "      <td>W.MIDTOWN 57 ST via WATER ST via MADISON</td>\n",
       "      <td>0</td>\n",
       "      <td>X140122</td>\n",
       "    </tr>\n",
       "    <tr>\n",
       "      <th>11925</th>\n",
       "      <td>X14</td>\n",
       "      <td>CA_A6-Weekday-SDon</td>\n",
       "      <td>CA_A6-Weekday-SDon-040000_X14_307</td>\n",
       "      <td>W.MIDTOWN 57 ST via WATER ST via MADISON</td>\n",
       "      <td>0</td>\n",
       "      <td>X140122</td>\n",
       "    </tr>\n",
       "    <tr>\n",
       "      <th>11926</th>\n",
       "      <td>X14</td>\n",
       "      <td>CA_A6-Weekday-SDon</td>\n",
       "      <td>CA_A6-Weekday-SDon-042000_X14_309</td>\n",
       "      <td>W.MIDTOWN 57 ST via WATER ST via MADISON</td>\n",
       "      <td>0</td>\n",
       "      <td>X140122</td>\n",
       "    </tr>\n",
       "    <tr>\n",
       "      <th>11927</th>\n",
       "      <td>X14</td>\n",
       "      <td>CA_A6-Weekday-SDon</td>\n",
       "      <td>CA_A6-Weekday-SDon-044000_X14_310</td>\n",
       "      <td>W.MIDTOWN 57 ST via WATER ST via MADISON</td>\n",
       "      <td>0</td>\n",
       "      <td>X140122</td>\n",
       "    </tr>\n",
       "    <tr>\n",
       "      <th>11928</th>\n",
       "      <td>X14</td>\n",
       "      <td>CA_A6-Weekday-SDon</td>\n",
       "      <td>CA_A6-Weekday-SDon-046000_MISC_474</td>\n",
       "      <td>W.MIDTOWN 57 ST via WATER ST via MADISON</td>\n",
       "      <td>0</td>\n",
       "      <td>X140122</td>\n",
       "    </tr>\n",
       "    <tr>\n",
       "      <th>11934</th>\n",
       "      <td>X14</td>\n",
       "      <td>CA_A6-Weekday-SDon</td>\n",
       "      <td>CA_A6-Weekday-SDon-033300_X14_302</td>\n",
       "      <td>W.MIDTOWN 57 ST via WATER ST via MADISON</td>\n",
       "      <td>0</td>\n",
       "      <td>X140122</td>\n",
       "    </tr>\n",
       "    <tr>\n",
       "      <th>11937</th>\n",
       "      <td>X14</td>\n",
       "      <td>CA_A6-Weekday-SDon</td>\n",
       "      <td>CA_A6-Weekday-SDon-036300_X14_304</td>\n",
       "      <td>W.MIDTOWN 57 ST via WATER ST via MADISON</td>\n",
       "      <td>0</td>\n",
       "      <td>X140122</td>\n",
       "    </tr>\n",
       "    <tr>\n",
       "      <th>11938</th>\n",
       "      <td>X14</td>\n",
       "      <td>CA_A6-Weekday-SDon</td>\n",
       "      <td>CA_A6-Weekday-SDon-048000_MISC_478</td>\n",
       "      <td>W.MIDTOWN 57 ST via WATER ST via MADISON</td>\n",
       "      <td>0</td>\n",
       "      <td>X140122</td>\n",
       "    </tr>\n",
       "    <tr>\n",
       "      <th>11943</th>\n",
       "      <td>X14</td>\n",
       "      <td>CA_A6-Weekday-SDon</td>\n",
       "      <td>CA_A6-Weekday-SDon-050500_MISC_481</td>\n",
       "      <td>W.MIDTOWN 57 ST via WATER ST via MADISON</td>\n",
       "      <td>0</td>\n",
       "      <td>X140122</td>\n",
       "    </tr>\n",
       "    <tr>\n",
       "      <th>11944</th>\n",
       "      <td>X14</td>\n",
       "      <td>CA_A6-Weekday-SDon</td>\n",
       "      <td>CA_A6-Weekday-SDon-041000_X14_308</td>\n",
       "      <td>W.MIDTOWN 57 ST via WATER ST via MADISON</td>\n",
       "      <td>0</td>\n",
       "      <td>X140122</td>\n",
       "    </tr>\n",
       "    <tr>\n",
       "      <th>11945</th>\n",
       "      <td>X14</td>\n",
       "      <td>CA_A6-Weekday-SDon</td>\n",
       "      <td>CA_A6-Weekday-SDon-045000_X14_311</td>\n",
       "      <td>W.MIDTOWN 57 ST via WATER ST via MADISON</td>\n",
       "      <td>0</td>\n",
       "      <td>X140122</td>\n",
       "    </tr>\n",
       "    <tr>\n",
       "      <th>11946</th>\n",
       "      <td>X14</td>\n",
       "      <td>CA_A6-Weekday-SDon</td>\n",
       "      <td>CA_A6-Weekday-SDon-034800_X14_303</td>\n",
       "      <td>W.MIDTOWN 57 ST via WATER ST via MADISON</td>\n",
       "      <td>0</td>\n",
       "      <td>X140122</td>\n",
       "    </tr>\n",
       "    <tr>\n",
       "      <th>14123</th>\n",
       "      <td>X14</td>\n",
       "      <td>MA_A6-Weekday-SDon</td>\n",
       "      <td>MA_A6-Weekday-SDon-043000_MISC_651</td>\n",
       "      <td>W.MIDTOWN 57 ST via WATER ST via MADISON</td>\n",
       "      <td>0</td>\n",
       "      <td>X140122</td>\n",
       "    </tr>\n",
       "    <tr>\n",
       "      <th>14124</th>\n",
       "      <td>X14</td>\n",
       "      <td>MA_A6-Weekday-SDon</td>\n",
       "      <td>MA_A6-Weekday-SDon-047000_MISC_660</td>\n",
       "      <td>W.MIDTOWN 57 ST via WATER ST via MADISON</td>\n",
       "      <td>0</td>\n",
       "      <td>X140122</td>\n",
       "    </tr>\n",
       "  </tbody>\n",
       "</table>\n",
       "</div>"
      ],
      "text/plain": [
       "      route_id          service_id                             trip_id  \\\n",
       "0          X14       CA_H6-Weekday       CA_H6-Weekday-031500_MISC_402   \n",
       "1          X14       CA_H6-Weekday       CA_H6-Weekday-037500_MISC_461   \n",
       "2          X14       CA_H6-Weekday       CA_H6-Weekday-041500_MISC_481   \n",
       "3          X14       CA_H6-Weekday       CA_H6-Weekday-043500_MISC_491   \n",
       "7          X14       CA_H6-Weekday       CA_H6-Weekday-033500_MISC_442   \n",
       "9          X14       CA_H6-Weekday       CA_H6-Weekday-047500_MISC_500   \n",
       "11         X14       CA_H6-Weekday       CA_H6-Weekday-035500_MISC_451   \n",
       "14         X14       CA_H6-Weekday       CA_H6-Weekday-050500_MISC_504   \n",
       "15         X14       CA_H6-Weekday       CA_H6-Weekday-039500_MISC_474   \n",
       "16         X14       CA_H6-Weekday       CA_H6-Weekday-045500_MISC_495   \n",
       "3707       X14       CA_A6-Weekday        CA_A6-Weekday-031500_X14_301   \n",
       "3708       X14       CA_A6-Weekday       CA_A6-Weekday-049000_MISC_479   \n",
       "3709       X14       CA_A6-Weekday        CA_A6-Weekday-037800_X14_305   \n",
       "3710       X14       CA_A6-Weekday        CA_A6-Weekday-039000_X14_306   \n",
       "3711       X14       CA_A6-Weekday        CA_A6-Weekday-040000_X14_307   \n",
       "3712       X14       CA_A6-Weekday        CA_A6-Weekday-042000_X14_309   \n",
       "3713       X14       CA_A6-Weekday        CA_A6-Weekday-044000_X14_310   \n",
       "3714       X14       CA_A6-Weekday       CA_A6-Weekday-046000_MISC_474   \n",
       "3720       X14       CA_A6-Weekday        CA_A6-Weekday-033300_X14_302   \n",
       "3723       X14       CA_A6-Weekday        CA_A6-Weekday-036300_X14_304   \n",
       "3724       X14       CA_A6-Weekday       CA_A6-Weekday-048000_MISC_478   \n",
       "3729       X14       CA_A6-Weekday       CA_A6-Weekday-050500_MISC_481   \n",
       "3730       X14       CA_A6-Weekday        CA_A6-Weekday-041000_X14_308   \n",
       "3731       X14       CA_A6-Weekday        CA_A6-Weekday-045000_X14_311   \n",
       "3732       X14       CA_A6-Weekday        CA_A6-Weekday-034800_X14_303   \n",
       "8317       X14       MA_A6-Weekday       MA_A6-Weekday-043000_MISC_651   \n",
       "8318       X14       MA_A6-Weekday       MA_A6-Weekday-047000_MISC_660   \n",
       "11921      X14  CA_A6-Weekday-SDon   CA_A6-Weekday-SDon-031500_X14_301   \n",
       "11922      X14  CA_A6-Weekday-SDon  CA_A6-Weekday-SDon-049000_MISC_479   \n",
       "11923      X14  CA_A6-Weekday-SDon   CA_A6-Weekday-SDon-037800_X14_305   \n",
       "11924      X14  CA_A6-Weekday-SDon   CA_A6-Weekday-SDon-039000_X14_306   \n",
       "11925      X14  CA_A6-Weekday-SDon   CA_A6-Weekday-SDon-040000_X14_307   \n",
       "11926      X14  CA_A6-Weekday-SDon   CA_A6-Weekday-SDon-042000_X14_309   \n",
       "11927      X14  CA_A6-Weekday-SDon   CA_A6-Weekday-SDon-044000_X14_310   \n",
       "11928      X14  CA_A6-Weekday-SDon  CA_A6-Weekday-SDon-046000_MISC_474   \n",
       "11934      X14  CA_A6-Weekday-SDon   CA_A6-Weekday-SDon-033300_X14_302   \n",
       "11937      X14  CA_A6-Weekday-SDon   CA_A6-Weekday-SDon-036300_X14_304   \n",
       "11938      X14  CA_A6-Weekday-SDon  CA_A6-Weekday-SDon-048000_MISC_478   \n",
       "11943      X14  CA_A6-Weekday-SDon  CA_A6-Weekday-SDon-050500_MISC_481   \n",
       "11944      X14  CA_A6-Weekday-SDon   CA_A6-Weekday-SDon-041000_X14_308   \n",
       "11945      X14  CA_A6-Weekday-SDon   CA_A6-Weekday-SDon-045000_X14_311   \n",
       "11946      X14  CA_A6-Weekday-SDon   CA_A6-Weekday-SDon-034800_X14_303   \n",
       "14123      X14  MA_A6-Weekday-SDon  MA_A6-Weekday-SDon-043000_MISC_651   \n",
       "14124      X14  MA_A6-Weekday-SDon  MA_A6-Weekday-SDon-047000_MISC_660   \n",
       "\n",
       "                                  trip_headsign  direction_id shape_id  \n",
       "0      W.MIDTOWN 57 ST via WATER ST via MADISON             0  X140122  \n",
       "1      W.MIDTOWN 57 ST via WATER ST via MADISON             0  X140122  \n",
       "2      W.MIDTOWN 57 ST via WATER ST via MADISON             0  X140122  \n",
       "3      W.MIDTOWN 57 ST via WATER ST via MADISON             0  X140122  \n",
       "7      W.MIDTOWN 57 ST via WATER ST via MADISON             0  X140122  \n",
       "9      W.MIDTOWN 57 ST via WATER ST via MADISON             0  X140122  \n",
       "11     W.MIDTOWN 57 ST via WATER ST via MADISON             0  X140122  \n",
       "14     W.MIDTOWN 57 ST via WATER ST via MADISON             0  X140122  \n",
       "15     W.MIDTOWN 57 ST via WATER ST via MADISON             0  X140122  \n",
       "16     W.MIDTOWN 57 ST via WATER ST via MADISON             0  X140122  \n",
       "3707   W.MIDTOWN 57 ST via WATER ST via MADISON             0  X140122  \n",
       "3708   W.MIDTOWN 57 ST via WATER ST via MADISON             0  X140122  \n",
       "3709   W.MIDTOWN 57 ST via WATER ST via MADISON             0  X140122  \n",
       "3710   W.MIDTOWN 57 ST via WATER ST via MADISON             0  X140122  \n",
       "3711   W.MIDTOWN 57 ST via WATER ST via MADISON             0  X140122  \n",
       "3712   W.MIDTOWN 57 ST via WATER ST via MADISON             0  X140122  \n",
       "3713   W.MIDTOWN 57 ST via WATER ST via MADISON             0  X140122  \n",
       "3714   W.MIDTOWN 57 ST via WATER ST via MADISON             0  X140122  \n",
       "3720   W.MIDTOWN 57 ST via WATER ST via MADISON             0  X140122  \n",
       "3723   W.MIDTOWN 57 ST via WATER ST via MADISON             0  X140122  \n",
       "3724   W.MIDTOWN 57 ST via WATER ST via MADISON             0  X140122  \n",
       "3729   W.MIDTOWN 57 ST via WATER ST via MADISON             0  X140122  \n",
       "3730   W.MIDTOWN 57 ST via WATER ST via MADISON             0  X140122  \n",
       "3731   W.MIDTOWN 57 ST via WATER ST via MADISON             0  X140122  \n",
       "3732   W.MIDTOWN 57 ST via WATER ST via MADISON             0  X140122  \n",
       "8317   W.MIDTOWN 57 ST via WATER ST via MADISON             0  X140122  \n",
       "8318   W.MIDTOWN 57 ST via WATER ST via MADISON             0  X140122  \n",
       "11921  W.MIDTOWN 57 ST via WATER ST via MADISON             0  X140122  \n",
       "11922  W.MIDTOWN 57 ST via WATER ST via MADISON             0  X140122  \n",
       "11923  W.MIDTOWN 57 ST via WATER ST via MADISON             0  X140122  \n",
       "11924  W.MIDTOWN 57 ST via WATER ST via MADISON             0  X140122  \n",
       "11925  W.MIDTOWN 57 ST via WATER ST via MADISON             0  X140122  \n",
       "11926  W.MIDTOWN 57 ST via WATER ST via MADISON             0  X140122  \n",
       "11927  W.MIDTOWN 57 ST via WATER ST via MADISON             0  X140122  \n",
       "11928  W.MIDTOWN 57 ST via WATER ST via MADISON             0  X140122  \n",
       "11934  W.MIDTOWN 57 ST via WATER ST via MADISON             0  X140122  \n",
       "11937  W.MIDTOWN 57 ST via WATER ST via MADISON             0  X140122  \n",
       "11938  W.MIDTOWN 57 ST via WATER ST via MADISON             0  X140122  \n",
       "11943  W.MIDTOWN 57 ST via WATER ST via MADISON             0  X140122  \n",
       "11944  W.MIDTOWN 57 ST via WATER ST via MADISON             0  X140122  \n",
       "11945  W.MIDTOWN 57 ST via WATER ST via MADISON             0  X140122  \n",
       "11946  W.MIDTOWN 57 ST via WATER ST via MADISON             0  X140122  \n",
       "14123  W.MIDTOWN 57 ST via WATER ST via MADISON             0  X140122  \n",
       "14124  W.MIDTOWN 57 ST via WATER ST via MADISON             0  X140122  "
      ]
     },
     "execution_count": 10,
     "metadata": {},
     "output_type": "execute_result"
    }
   ],
   "source": [
    "select_trips"
   ]
  },
  {
   "cell_type": "code",
   "execution_count": 11,
   "metadata": {
    "collapsed": false
   },
   "outputs": [
    {
     "name": "stdout",
     "output_type": "stream",
     "text": [
      "set(['MA_A6-Weekday', 'CA_H6-Weekday', 'MA_A6-Weekday-SDon', 'CA_A6-Weekday-SDon', 'CA_A6-Weekday'])\n"
     ]
    }
   ],
   "source": [
    "select_service_id_set = set(list(select_trips.service_id))\n",
    "print select_service_id_set"
   ]
  },
  {
   "cell_type": "markdown",
   "metadata": {},
   "source": [
    "## 3. find the corresponding dates of the service_id"
   ]
  },
  {
   "cell_type": "markdown",
   "metadata": {},
   "source": [
    "read the calendar dataframe to obtain the normal schedule of the trips"
   ]
  },
  {
   "cell_type": "code",
   "execution_count": 12,
   "metadata": {
    "collapsed": false
   },
   "outputs": [
    {
     "name": "stdout",
     "output_type": "stream",
     "text": [
      "<class 'pandas.core.frame.DataFrame'>\n",
      "Int64Index: 3 entries, 1 to 9\n",
      "Data columns (total 10 columns):\n",
      "service_id    3 non-null object\n",
      "monday        3 non-null int64\n",
      "tuesday       3 non-null int64\n",
      "wednesday     3 non-null int64\n",
      "thursday      3 non-null int64\n",
      "friday        3 non-null int64\n",
      "saturday      3 non-null int64\n",
      "sunday        3 non-null int64\n",
      "start_date    3 non-null int64\n",
      "end_date      3 non-null int64\n",
      "dtypes: int64(9), object(1)\n",
      "memory usage: 264.0+ bytes\n"
     ]
    }
   ],
   "source": [
    "select_calendar = calendar[calendar.service_id.isin(select_service_id_set)]\n",
    "select_calendar.info()"
   ]
  },
  {
   "cell_type": "code",
   "execution_count": 13,
   "metadata": {
    "collapsed": false
   },
   "outputs": [
    {
     "data": {
      "text/html": [
       "<div>\n",
       "<table border=\"1\" class=\"dataframe\">\n",
       "  <thead>\n",
       "    <tr style=\"text-align: right;\">\n",
       "      <th></th>\n",
       "      <th>service_id</th>\n",
       "      <th>monday</th>\n",
       "      <th>tuesday</th>\n",
       "      <th>wednesday</th>\n",
       "      <th>thursday</th>\n",
       "      <th>friday</th>\n",
       "      <th>saturday</th>\n",
       "      <th>sunday</th>\n",
       "      <th>start_date</th>\n",
       "      <th>end_date</th>\n",
       "    </tr>\n",
       "  </thead>\n",
       "  <tbody>\n",
       "    <tr>\n",
       "      <th>1</th>\n",
       "      <td>CA_A6-Weekday-SDon</td>\n",
       "      <td>1</td>\n",
       "      <td>1</td>\n",
       "      <td>1</td>\n",
       "      <td>1</td>\n",
       "      <td>1</td>\n",
       "      <td>0</td>\n",
       "      <td>0</td>\n",
       "      <td>20160104</td>\n",
       "      <td>20160401</td>\n",
       "    </tr>\n",
       "    <tr>\n",
       "      <th>3</th>\n",
       "      <td>CA_H6-Weekday</td>\n",
       "      <td>1</td>\n",
       "      <td>1</td>\n",
       "      <td>1</td>\n",
       "      <td>1</td>\n",
       "      <td>1</td>\n",
       "      <td>0</td>\n",
       "      <td>0</td>\n",
       "      <td>20160118</td>\n",
       "      <td>20160118</td>\n",
       "    </tr>\n",
       "    <tr>\n",
       "      <th>9</th>\n",
       "      <td>MA_A6-Weekday-SDon</td>\n",
       "      <td>1</td>\n",
       "      <td>1</td>\n",
       "      <td>1</td>\n",
       "      <td>1</td>\n",
       "      <td>1</td>\n",
       "      <td>0</td>\n",
       "      <td>0</td>\n",
       "      <td>20160104</td>\n",
       "      <td>20160401</td>\n",
       "    </tr>\n",
       "  </tbody>\n",
       "</table>\n",
       "</div>"
      ],
      "text/plain": [
       "           service_id  monday  tuesday  wednesday  thursday  friday  saturday  \\\n",
       "1  CA_A6-Weekday-SDon       1        1          1         1       1         0   \n",
       "3       CA_H6-Weekday       1        1          1         1       1         0   \n",
       "9  MA_A6-Weekday-SDon       1        1          1         1       1         0   \n",
       "\n",
       "   sunday  start_date  end_date  \n",
       "1       0    20160104  20160401  \n",
       "3       0    20160118  20160118  \n",
       "9       0    20160104  20160401  "
      ]
     },
     "execution_count": 13,
     "metadata": {},
     "output_type": "execute_result"
    }
   ],
   "source": [
    "# the select service_id\n",
    "select_calendar"
   ]
  },
  {
   "cell_type": "markdown",
   "metadata": {
    "collapsed": true
   },
   "source": [
    "obtain normal dates for the service_id"
   ]
  },
  {
   "cell_type": "code",
   "execution_count": 14,
   "metadata": {
    "collapsed": false
   },
   "outputs": [
    {
     "name": "stdout",
     "output_type": "stream",
     "text": [
      "['20160104', '20160105', '20160106', '20160107', '20160108', '20160111', '20160112', '20160113', '20160114', '20160115', '20160118', '20160119', '20160120', '20160121', '20160122', '20160125', '20160126', '20160127', '20160128', '20160129', '20160201', '20160202', '20160203', '20160204', '20160205', '20160208', '20160209', '20160210', '20160211', '20160212', '20160215', '20160216', '20160217', '20160218', '20160219', '20160222', '20160223', '20160224', '20160225', '20160226', '20160229', '20160301', '20160302', '20160303', '20160304', '20160307', '20160308', '20160309', '20160310', '20160311', '20160314', '20160315', '20160316', '20160317', '20160318', '20160321', '20160322', '20160323', '20160324', '20160325', '20160328', '20160329', '20160330', '20160331']\n"
     ]
    }
   ],
   "source": [
    "dates = []\n",
    "for i in range(1, 4):\n",
    "    month = cal.monthcalendar(2016, i)\n",
    "    for week in month:\n",
    "        monday = week[cal.MONDAY]\n",
    "        tuesday = week[cal.TUESDAY]\n",
    "        wednesday = week[cal.WEDNESDAY]\n",
    "        thursday = week[cal.THURSDAY]\n",
    "        friday = week[cal.FRIDAY]\n",
    "        if monday > 0:\n",
    "            if monday < 10:\n",
    "                cur_date = '20160' + str(i) + '0' + str(monday)\n",
    "            else:\n",
    "                cur_date = '20160' + str(i) + str(monday)\n",
    "            if cur_date <= '20160401' and cur_date >= '20160104':\n",
    "                \n",
    "                dates.append(cur_date)\n",
    "        if tuesday > 0:\n",
    "            if tuesday < 10:\n",
    "                cur_date = '20160' + str(i) + '0' + str(tuesday)\n",
    "            else:\n",
    "                cur_date = '20160' + str(i) + str(tuesday)\n",
    "            if cur_date <= '20160401' and cur_date >= '20160104':\n",
    "                dates.append(cur_date)\n",
    "        if wednesday > 0:\n",
    "            if wednesday < 10:\n",
    "                cur_date = '20160' + str(i) + '0' + str(wednesday)\n",
    "            else:\n",
    "                cur_date = '20160' + str(i) + str(wednesday)\n",
    "            if cur_date <= '20160401' and cur_date >= '20160104':\n",
    "                dates.append(cur_date)\n",
    "        if thursday > 0:\n",
    "            if thursday < 10:\n",
    "                cur_date = '20160' + str(i) + '0' + str(thursday)\n",
    "            else:\n",
    "                cur_date = '20160' + str(i) + str(thursday)\n",
    "            if cur_date <= '20160401' and cur_date >= '20160104':\n",
    "                dates.append(cur_date)\n",
    "        if friday > 0:\n",
    "            if friday < 10:\n",
    "                cur_date = '20160' + str(i) + '0' + str(friday)\n",
    "            else:\n",
    "                cur_date = '20160' + str(i) + str(friday)\n",
    "            if cur_date <= '20160401' and cur_date >= '20160104':\n",
    "                dates.append(cur_date)\n",
    "print dates"
   ]
  },
  {
   "cell_type": "markdown",
   "metadata": {},
   "source": [
    "check with the calendar_date file to add or delete some dates"
   ]
  },
  {
   "cell_type": "code",
   "execution_count": 15,
   "metadata": {
    "collapsed": false
   },
   "outputs": [
    {
     "name": "stdout",
     "output_type": "stream",
     "text": [
      "<class 'pandas.core.frame.DataFrame'>\n",
      "Int64Index: 28 entries, 0 to 43\n",
      "Data columns (total 3 columns):\n",
      "service_id        28 non-null object\n",
      "date              28 non-null int64\n",
      "exception_type    28 non-null int64\n",
      "dtypes: int64(2), object(1)\n",
      "memory usage: 896.0+ bytes\n"
     ]
    }
   ],
   "source": [
    "select_calendar_date = calendar_dates[calendar_dates.service_id.isin(select_service_id_set)]\n",
    "select_calendar_date.info()"
   ]
  },
  {
   "cell_type": "code",
   "execution_count": 16,
   "metadata": {
    "collapsed": false
   },
   "outputs": [
    {
     "data": {
      "text/html": [
       "<div>\n",
       "<table border=\"1\" class=\"dataframe\">\n",
       "  <thead>\n",
       "    <tr style=\"text-align: right;\">\n",
       "      <th></th>\n",
       "      <th>service_id</th>\n",
       "      <th>date</th>\n",
       "      <th>exception_type</th>\n",
       "    </tr>\n",
       "  </thead>\n",
       "  <tbody>\n",
       "    <tr>\n",
       "      <th>8</th>\n",
       "      <td>CA_A6-Weekday</td>\n",
       "      <td>20160208</td>\n",
       "      <td>1</td>\n",
       "    </tr>\n",
       "    <tr>\n",
       "      <th>9</th>\n",
       "      <td>CA_A6-Weekday</td>\n",
       "      <td>20160216</td>\n",
       "      <td>1</td>\n",
       "    </tr>\n",
       "    <tr>\n",
       "      <th>10</th>\n",
       "      <td>CA_A6-Weekday</td>\n",
       "      <td>20160217</td>\n",
       "      <td>1</td>\n",
       "    </tr>\n",
       "    <tr>\n",
       "      <th>11</th>\n",
       "      <td>CA_A6-Weekday</td>\n",
       "      <td>20160218</td>\n",
       "      <td>1</td>\n",
       "    </tr>\n",
       "    <tr>\n",
       "      <th>12</th>\n",
       "      <td>CA_A6-Weekday</td>\n",
       "      <td>20160219</td>\n",
       "      <td>1</td>\n",
       "    </tr>\n",
       "    <tr>\n",
       "      <th>13</th>\n",
       "      <td>CA_A6-Weekday</td>\n",
       "      <td>20160325</td>\n",
       "      <td>1</td>\n",
       "    </tr>\n",
       "    <tr>\n",
       "      <th>38</th>\n",
       "      <td>MA_A6-Weekday</td>\n",
       "      <td>20160208</td>\n",
       "      <td>1</td>\n",
       "    </tr>\n",
       "    <tr>\n",
       "      <th>39</th>\n",
       "      <td>MA_A6-Weekday</td>\n",
       "      <td>20160216</td>\n",
       "      <td>1</td>\n",
       "    </tr>\n",
       "    <tr>\n",
       "      <th>40</th>\n",
       "      <td>MA_A6-Weekday</td>\n",
       "      <td>20160217</td>\n",
       "      <td>1</td>\n",
       "    </tr>\n",
       "    <tr>\n",
       "      <th>41</th>\n",
       "      <td>MA_A6-Weekday</td>\n",
       "      <td>20160218</td>\n",
       "      <td>1</td>\n",
       "    </tr>\n",
       "    <tr>\n",
       "      <th>42</th>\n",
       "      <td>MA_A6-Weekday</td>\n",
       "      <td>20160219</td>\n",
       "      <td>1</td>\n",
       "    </tr>\n",
       "    <tr>\n",
       "      <th>43</th>\n",
       "      <td>MA_A6-Weekday</td>\n",
       "      <td>20160325</td>\n",
       "      <td>1</td>\n",
       "    </tr>\n",
       "  </tbody>\n",
       "</table>\n",
       "</div>"
      ],
      "text/plain": [
       "       service_id      date  exception_type\n",
       "8   CA_A6-Weekday  20160208               1\n",
       "9   CA_A6-Weekday  20160216               1\n",
       "10  CA_A6-Weekday  20160217               1\n",
       "11  CA_A6-Weekday  20160218               1\n",
       "12  CA_A6-Weekday  20160219               1\n",
       "13  CA_A6-Weekday  20160325               1\n",
       "38  MA_A6-Weekday  20160208               1\n",
       "39  MA_A6-Weekday  20160216               1\n",
       "40  MA_A6-Weekday  20160217               1\n",
       "41  MA_A6-Weekday  20160218               1\n",
       "42  MA_A6-Weekday  20160219               1\n",
       "43  MA_A6-Weekday  20160325               1"
      ]
     },
     "execution_count": 16,
     "metadata": {},
     "output_type": "execute_result"
    }
   ],
   "source": [
    "select_calendar_date[select_calendar_date.exception_type == 1]"
   ]
  },
  {
   "cell_type": "code",
   "execution_count": 17,
   "metadata": {
    "collapsed": false
   },
   "outputs": [],
   "source": [
    "date_set = set(dates)\n",
    "for i in xrange(len(select_calendar_date)):\n",
    "    exception_type = select_calendar_date.iloc[i].exception_type\n",
    "    tmp_date = str(select_calendar_date.iloc[i].date)\n",
    "    tmp_service_id = select_calendar_date.iloc[i].service_id\n",
    "    if exception_type == 1 and tmp_date not in date_set:\n",
    "        print \"add\"\n",
    "        date_set.add(tmp_date)"
   ]
  },
  {
   "cell_type": "code",
   "execution_count": 18,
   "metadata": {
    "collapsed": false
   },
   "outputs": [
    {
     "data": {
      "text/plain": [
       "{'20160104',\n",
       " '20160105',\n",
       " '20160106',\n",
       " '20160107',\n",
       " '20160108',\n",
       " '20160111',\n",
       " '20160112',\n",
       " '20160113',\n",
       " '20160114',\n",
       " '20160115',\n",
       " '20160118',\n",
       " '20160119',\n",
       " '20160120',\n",
       " '20160121',\n",
       " '20160122',\n",
       " '20160125',\n",
       " '20160126',\n",
       " '20160127',\n",
       " '20160128',\n",
       " '20160129',\n",
       " '20160201',\n",
       " '20160202',\n",
       " '20160203',\n",
       " '20160204',\n",
       " '20160205',\n",
       " '20160208',\n",
       " '20160209',\n",
       " '20160210',\n",
       " '20160211',\n",
       " '20160212',\n",
       " '20160215',\n",
       " '20160216',\n",
       " '20160217',\n",
       " '20160218',\n",
       " '20160219',\n",
       " '20160222',\n",
       " '20160223',\n",
       " '20160224',\n",
       " '20160225',\n",
       " '20160226',\n",
       " '20160229',\n",
       " '20160301',\n",
       " '20160302',\n",
       " '20160303',\n",
       " '20160304',\n",
       " '20160307',\n",
       " '20160308',\n",
       " '20160309',\n",
       " '20160310',\n",
       " '20160311',\n",
       " '20160314',\n",
       " '20160315',\n",
       " '20160316',\n",
       " '20160317',\n",
       " '20160318',\n",
       " '20160321',\n",
       " '20160322',\n",
       " '20160323',\n",
       " '20160324',\n",
       " '20160325',\n",
       " '20160328',\n",
       " '20160329',\n",
       " '20160330',\n",
       " '20160331'}"
      ]
     },
     "execution_count": 18,
     "metadata": {},
     "output_type": "execute_result"
    }
   ],
   "source": [
    "date_set"
   ]
  },
  {
   "cell_type": "markdown",
   "metadata": {},
   "source": [
    "## 4. Download the historical files from website\n",
    "url: http://data.mytransit.nyc/bus_time/2016/"
   ]
  },
  {
   "cell_type": "markdown",
   "metadata": {},
   "source": [
    "prepare the dates list for downloading"
   ]
  },
  {
   "cell_type": "code",
   "execution_count": 19,
   "metadata": {
    "collapsed": false
   },
   "outputs": [
    {
     "name": "stdout",
     "output_type": "stream",
     "text": [
      "['20160104', '20160105', '20160106', '20160107', '20160108', '20160111', '20160112', '20160113', '20160114', '20160115', '20160118', '20160119', '20160120', '20160121', '20160122', '20160125', '20160126', '20160127', '20160128', '20160129', '20160201', '20160202', '20160203', '20160204', '20160205', '20160208', '20160209', '20160210', '20160211', '20160212', '20160215', '20160216', '20160217', '20160218', '20160219', '20160222', '20160223', '20160224', '20160225', '20160226', '20160229', '20160301', '20160302', '20160303', '20160304', '20160307', '20160308', '20160309', '20160310', '20160311', '20160314', '20160315', '20160316', '20160317', '20160318', '20160321', '20160322', '20160323', '20160324', '20160325', '20160328', '20160329', '20160330', '20160331']\n",
      "http://data.mytransit.nyc.s3.amazonaws.com/bus_time/2016/\n"
     ]
    }
   ],
   "source": [
    "sorted_dates = sorted(list(date_set))\n",
    "basic_url = 'http://data.mytransit.nyc.s3.amazonaws.com/bus_time/2016/'\n",
    "print sorted_dates\n",
    "print basic_url"
   ]
  },
  {
   "cell_type": "markdown",
   "metadata": {},
   "source": [
    "use the urllib package to start downloading\n",
    "The link address for a specific file is: http://data.mytransit.nyc.s3.amazonaws.com/bus_time/2016/2016-01/bus_time_20160101.csv.xz"
   ]
  },
  {
   "cell_type": "code",
   "execution_count": 20,
   "metadata": {
    "collapsed": false
   },
   "outputs": [],
   "source": [
    "# download_file = urllib.URLopener()\n",
    "# for i in xrange(len(sorted_dates)):\n",
    "#     print i\n",
    "#     cur_str = sorted_dates[i]\n",
    "#     filename = 'bus_time_' + cur_str + '.csv.xz'\n",
    "#     url = basic_url + cur_str[:-4] + '-' + cur_str[-4:-2] + '/' + filename\n",
    "#     download_file.retrieve(url, filename)"
   ]
  },
  {
   "cell_type": "markdown",
   "metadata": {
    "collapsed": true
   },
   "source": [
    "since the unzipped historical file is very large, we will only select several days as the samples."
   ]
  },
  {
   "cell_type": "markdown",
   "metadata": {},
   "source": [
    "# baseline algorithm\n",
    "calcualte the travel time within a segment of a specific route\n",
    "Prepare four different types of the baseline algorithm:\n",
    "\n",
    "- baseline algorithm without any features\n",
    "- baseline algorithm with only weather\n",
    "- baseline algorithm with only peak hour\n",
    "- baseline algorithm with both of the weather and the peak hour\n",
    "\n",
    "Step:\n",
    "1. randomly select several days: 5 days\n",
    "2. randomly select mutliple trips within the same route and direction\n",
    "3. use these mutliple trips at different days to form a dataframe\n",
    "4. calculate the arrival time for each trip at each sample day\n",
    "5. obtain the simple baseline data for the first one."
   ]
  },
  {
   "cell_type": "markdown",
   "metadata": {},
   "source": [
    "## 1. randomly select several days: 5 days"
   ]
  },
  {
   "cell_type": "markdown",
   "metadata": {},
   "source": [
    "prepare the directory"
   ]
  },
  {
   "cell_type": "code",
   "execution_count": 21,
   "metadata": {
    "collapsed": false
   },
   "outputs": [],
   "source": [
    "dir_name = '../code/history/'\n",
    "file_list = os.listdir(dir_name)"
   ]
  },
  {
   "cell_type": "markdown",
   "metadata": {},
   "source": [
    "select the five files by random from the file_list"
   ]
  },
  {
   "cell_type": "code",
   "execution_count": 22,
   "metadata": {
    "collapsed": false
   },
   "outputs": [
    {
     "name": "stdout",
     "output_type": "stream",
     "text": [
      "['bus_time_20160104.csv', 'bus_time_20160105.csv', 'bus_time_20160106.csv', 'bus_time_20160107.csv', 'bus_time_20160108.csv', 'bus_time_20160111.csv', 'bus_time_20160112.csv', 'bus_time_20160113.csv', 'bus_time_20160114.csv', 'bus_time_20160115.csv', 'bus_time_20160118.csv', 'bus_time_20160119.csv', 'bus_time_20160120.csv', 'bus_time_20160121.csv', 'bus_time_20160122.csv', 'bus_time_20160125.csv', 'bus_time_20160126.csv', 'bus_time_20160127.csv', 'bus_time_20160128.csv', 'bus_time_20160129.csv', 'bus_time_20160201.csv', 'bus_time_20160202.csv', 'bus_time_20160203.csv', 'bus_time_20160204.csv', 'bus_time_20160205.csv', 'bus_time_20160208.csv', 'bus_time_20160209.csv', 'bus_time_20160210.csv', 'bus_time_20160211.csv', 'bus_time_20160212.csv', 'bus_time_20160215.csv', 'bus_time_20160216.csv', 'bus_time_20160217.csv', 'bus_time_20160218.csv', 'bus_time_20160219.csv', 'bus_time_20160222.csv', 'bus_time_20160223.csv', 'bus_time_20160224.csv', 'bus_time_20160225.csv', 'bus_time_20160226.csv', 'bus_time_20160229.csv']\n"
     ]
    }
   ],
   "source": [
    "files = []\n",
    "for single_file in file_list:\n",
    "    if not single_file.endswith('.csv'):\n",
    "        continue\n",
    "    files.append(single_file)\n",
    "print files"
   ]
  },
  {
   "cell_type": "markdown",
   "metadata": {},
   "source": [
    "for simplicity, we select the first 5 days as the result"
   ]
  },
  {
   "cell_type": "code",
   "execution_count": 23,
   "metadata": {
    "collapsed": false
   },
   "outputs": [
    {
     "name": "stdout",
     "output_type": "stream",
     "text": [
      "['bus_time_20160104.csv', 'bus_time_20160105.csv', 'bus_time_20160106.csv', 'bus_time_20160107.csv', 'bus_time_20160108.csv']\n"
     ]
    }
   ],
   "source": [
    "sample_days = files[:5]\n",
    "print sample_days"
   ]
  },
  {
   "cell_type": "markdown",
   "metadata": {},
   "source": [
    "## 2. randomly select a trip within the specific route and direction"
   ]
  },
  {
   "cell_type": "code",
   "execution_count": 24,
   "metadata": {
    "collapsed": false
   },
   "outputs": [
    {
     "data": {
      "text/plain": [
       "route_id                                              X14\n",
       "service_id                                  CA_A6-Weekday\n",
       "trip_id                      CA_A6-Weekday-031500_X14_301\n",
       "trip_headsign    W.MIDTOWN 57 ST via WATER ST via MADISON\n",
       "direction_id                                            0\n",
       "shape_id                                          X140122\n",
       "Name: 3707, dtype: object"
      ]
     },
     "execution_count": 24,
     "metadata": {},
     "output_type": "execute_result"
    }
   ],
   "source": [
    "specific_trip = select_trips.iloc[10]\n",
    "specific_trip"
   ]
  },
  {
   "cell_type": "markdown",
   "metadata": {},
   "source": [
    "## 3. use these mutliple trips at different days to form a dataframe"
   ]
  },
  {
   "cell_type": "markdown",
   "metadata": {},
   "source": [
    "read the dataframe from these five days and find the corresponding trips. reselect the sample dates by filering the dates with the trip_id"
   ]
  },
  {
   "cell_type": "code",
   "execution_count": 25,
   "metadata": {
    "collapsed": false
   },
   "outputs": [
    {
     "name": "stdout",
     "output_type": "stream",
     "text": [
      "../code/history/bus_time_20160208.csv\n",
      "../code/history/bus_time_20160217.csv\n",
      "../code/history/bus_time_20160218.csv\n",
      "../code/history/bus_time_20160219.csv\n"
     ]
    },
    {
     "name": "stderr",
     "output_type": "stream",
     "text": [
      "/Users/junwang/miniconda2/envs/py27/lib/python2.7/site-packages/IPython/core/interactiveshell.py:2717: DtypeWarning: Columns (9,10,11) have mixed types. Specify dtype option on import or set low_memory=False.\n",
      "  interactivity=interactivity, compiler=compiler, result=result)\n"
     ]
    }
   ],
   "source": [
    "historical_data = []\n",
    "date_list = ['bus_time_20160208.csv',\n",
    " 'bus_time_20160217.csv',\n",
    " 'bus_time_20160218.csv',\n",
    " 'bus_time_20160219.csv']\n",
    "for file_name in date_list:\n",
    "    print dir_name + file_name \n",
    "    cur_data = pd.read_csv(dir_name + file_name)\n",
    "    tmp_data = cur_data[cur_data.trip_id == specific_trip.trip_id]\n",
    "    if len(tmp_data) > 0:\n",
    "        historical_data.append(tmp_data)"
   ]
  },
  {
   "cell_type": "code",
   "execution_count": 26,
   "metadata": {
    "collapsed": false
   },
   "outputs": [
    {
     "data": {
      "text/plain": [
       "4"
      ]
     },
     "execution_count": 26,
     "metadata": {},
     "output_type": "execute_result"
    }
   ],
   "source": [
    "len(historical_data)"
   ]
  },
  {
   "cell_type": "code",
   "execution_count": 27,
   "metadata": {
    "collapsed": false
   },
   "outputs": [
    {
     "data": {
      "text/html": [
       "<div>\n",
       "<table border=\"1\" class=\"dataframe\">\n",
       "  <thead>\n",
       "    <tr style=\"text-align: right;\">\n",
       "      <th></th>\n",
       "      <th>timestamp</th>\n",
       "      <th>vehicle_id</th>\n",
       "      <th>latitude</th>\n",
       "      <th>longitude</th>\n",
       "      <th>bearing</th>\n",
       "      <th>progress</th>\n",
       "      <th>service_date</th>\n",
       "      <th>trip_id</th>\n",
       "      <th>block_assigned</th>\n",
       "      <th>next_stop_id</th>\n",
       "      <th>dist_along_route</th>\n",
       "      <th>dist_from_stop</th>\n",
       "    </tr>\n",
       "  </thead>\n",
       "  <tbody>\n",
       "    <tr>\n",
       "      <th>638258</th>\n",
       "      <td>2016-02-08T10:19:32Z</td>\n",
       "      <td>2588</td>\n",
       "      <td>40.633460</td>\n",
       "      <td>-74.136460</td>\n",
       "      <td>235.16</td>\n",
       "      <td>0</td>\n",
       "      <td>20160208</td>\n",
       "      <td>CA_A6-Weekday-031500_X14_301</td>\n",
       "      <td>1</td>\n",
       "      <td>203884</td>\n",
       "      <td>972.13</td>\n",
       "      <td>152.63</td>\n",
       "    </tr>\n",
       "    <tr>\n",
       "      <th>638906</th>\n",
       "      <td>2016-02-08T10:20:05Z</td>\n",
       "      <td>2588</td>\n",
       "      <td>40.632052</td>\n",
       "      <td>-74.137889</td>\n",
       "      <td>223.86</td>\n",
       "      <td>0</td>\n",
       "      <td>20160208</td>\n",
       "      <td>CA_A6-Weekday-031500_X14_301</td>\n",
       "      <td>1</td>\n",
       "      <td>200430</td>\n",
       "      <td>1102.31</td>\n",
       "      <td>84.9</td>\n",
       "    </tr>\n",
       "    <tr>\n",
       "      <th>639369</th>\n",
       "      <td>2016-02-08T10:20:37Z</td>\n",
       "      <td>2588</td>\n",
       "      <td>40.631852</td>\n",
       "      <td>-74.138096</td>\n",
       "      <td>223.86</td>\n",
       "      <td>0</td>\n",
       "      <td>20160208</td>\n",
       "      <td>CA_A6-Weekday-031500_X14_301</td>\n",
       "      <td>1</td>\n",
       "      <td>200430</td>\n",
       "      <td>1102.31</td>\n",
       "      <td>56.6</td>\n",
       "    </tr>\n",
       "    <tr>\n",
       "      <th>640724</th>\n",
       "      <td>2016-02-08T10:21:40Z</td>\n",
       "      <td>2588</td>\n",
       "      <td>40.629811</td>\n",
       "      <td>-74.140418</td>\n",
       "      <td>220.17</td>\n",
       "      <td>0</td>\n",
       "      <td>20160208</td>\n",
       "      <td>CA_A6-Weekday-031500_X14_301</td>\n",
       "      <td>1</td>\n",
       "      <td>203605</td>\n",
       "      <td>1363.17</td>\n",
       "      <td>17.39</td>\n",
       "    </tr>\n",
       "    <tr>\n",
       "      <th>641268</th>\n",
       "      <td>2016-02-08T10:22:14Z</td>\n",
       "      <td>2588</td>\n",
       "      <td>40.629579</td>\n",
       "      <td>-74.140700</td>\n",
       "      <td>217.98</td>\n",
       "      <td>0</td>\n",
       "      <td>20160208</td>\n",
       "      <td>CA_A6-Weekday-031500_X14_301</td>\n",
       "      <td>1</td>\n",
       "      <td>202647</td>\n",
       "      <td>1675.11</td>\n",
       "      <td>294.28</td>\n",
       "    </tr>\n",
       "  </tbody>\n",
       "</table>\n",
       "</div>"
      ],
      "text/plain": [
       "                   timestamp  vehicle_id   latitude  longitude  bearing  \\\n",
       "638258  2016-02-08T10:19:32Z        2588  40.633460 -74.136460   235.16   \n",
       "638906  2016-02-08T10:20:05Z        2588  40.632052 -74.137889   223.86   \n",
       "639369  2016-02-08T10:20:37Z        2588  40.631852 -74.138096   223.86   \n",
       "640724  2016-02-08T10:21:40Z        2588  40.629811 -74.140418   220.17   \n",
       "641268  2016-02-08T10:22:14Z        2588  40.629579 -74.140700   217.98   \n",
       "\n",
       "        progress  service_date                       trip_id  block_assigned  \\\n",
       "638258         0      20160208  CA_A6-Weekday-031500_X14_301               1   \n",
       "638906         0      20160208  CA_A6-Weekday-031500_X14_301               1   \n",
       "639369         0      20160208  CA_A6-Weekday-031500_X14_301               1   \n",
       "640724         0      20160208  CA_A6-Weekday-031500_X14_301               1   \n",
       "641268         0      20160208  CA_A6-Weekday-031500_X14_301               1   \n",
       "\n",
       "       next_stop_id dist_along_route dist_from_stop  \n",
       "638258       203884           972.13         152.63  \n",
       "638906       200430          1102.31           84.9  \n",
       "639369       200430          1102.31           56.6  \n",
       "640724       203605          1363.17          17.39  \n",
       "641268       202647          1675.11         294.28  "
      ]
     },
     "execution_count": 27,
     "metadata": {},
     "output_type": "execute_result"
    }
   ],
   "source": [
    "historical_data[0].head(5)"
   ]
  },
  {
   "cell_type": "code",
   "execution_count": 28,
   "metadata": {
    "collapsed": false
   },
   "outputs": [
    {
     "data": {
      "text/html": [
       "<div>\n",
       "<table border=\"1\" class=\"dataframe\">\n",
       "  <thead>\n",
       "    <tr style=\"text-align: right;\">\n",
       "      <th></th>\n",
       "      <th>timestamp</th>\n",
       "      <th>vehicle_id</th>\n",
       "      <th>latitude</th>\n",
       "      <th>longitude</th>\n",
       "      <th>bearing</th>\n",
       "      <th>progress</th>\n",
       "      <th>service_date</th>\n",
       "      <th>trip_id</th>\n",
       "      <th>block_assigned</th>\n",
       "      <th>next_stop_id</th>\n",
       "      <th>dist_along_route</th>\n",
       "      <th>dist_from_stop</th>\n",
       "    </tr>\n",
       "  </thead>\n",
       "  <tbody>\n",
       "    <tr>\n",
       "      <th>766399</th>\n",
       "      <td>2016-02-08T11:38:07Z</td>\n",
       "      <td>2588</td>\n",
       "      <td>40.768904</td>\n",
       "      <td>-73.988057</td>\n",
       "      <td>157.12</td>\n",
       "      <td>0</td>\n",
       "      <td>20160208</td>\n",
       "      <td>CA_A6-Weekday-031500_X14_301</td>\n",
       "      <td>1</td>\n",
       "      <td>403986</td>\n",
       "      <td>38600.44</td>\n",
       "      <td>89.06</td>\n",
       "    </tr>\n",
       "    <tr>\n",
       "      <th>767524</th>\n",
       "      <td>2016-02-08T11:38:38Z</td>\n",
       "      <td>2588</td>\n",
       "      <td>40.769238</td>\n",
       "      <td>-73.988849</td>\n",
       "      <td>157.16</td>\n",
       "      <td>0</td>\n",
       "      <td>20160208</td>\n",
       "      <td>CA_A6-Weekday-031500_X14_301</td>\n",
       "      <td>1</td>\n",
       "      <td>403986</td>\n",
       "      <td>38600.44</td>\n",
       "      <td>12.72</td>\n",
       "    </tr>\n",
       "    <tr>\n",
       "      <th>769834</th>\n",
       "      <td>2016-02-08T11:39:42Z</td>\n",
       "      <td>2588</td>\n",
       "      <td>40.770097</td>\n",
       "      <td>-73.990889</td>\n",
       "      <td>157.16</td>\n",
       "      <td>0</td>\n",
       "      <td>20160208</td>\n",
       "      <td>CA_A6-Weekday-031500_X14_301</td>\n",
       "      <td>1</td>\n",
       "      <td>803102</td>\n",
       "      <td>38801.34</td>\n",
       "      <td>17.1</td>\n",
       "    </tr>\n",
       "  </tbody>\n",
       "</table>\n",
       "</div>"
      ],
      "text/plain": [
       "                   timestamp  vehicle_id   latitude  longitude  bearing  \\\n",
       "766399  2016-02-08T11:38:07Z        2588  40.768904 -73.988057   157.12   \n",
       "767524  2016-02-08T11:38:38Z        2588  40.769238 -73.988849   157.16   \n",
       "769834  2016-02-08T11:39:42Z        2588  40.770097 -73.990889   157.16   \n",
       "\n",
       "        progress  service_date                       trip_id  block_assigned  \\\n",
       "766399         0      20160208  CA_A6-Weekday-031500_X14_301               1   \n",
       "767524         0      20160208  CA_A6-Weekday-031500_X14_301               1   \n",
       "769834         0      20160208  CA_A6-Weekday-031500_X14_301               1   \n",
       "\n",
       "       next_stop_id dist_along_route dist_from_stop  \n",
       "766399       403986         38600.44          89.06  \n",
       "767524       403986         38600.44          12.72  \n",
       "769834       803102         38801.34           17.1  "
      ]
     },
     "execution_count": 28,
     "metadata": {},
     "output_type": "execute_result"
    }
   ],
   "source": [
    "historical_data[0].tail(3)"
   ]
  },
  {
   "cell_type": "markdown",
   "metadata": {},
   "source": [
    "One specific trip will only be operated by one time every day."
   ]
  },
  {
   "cell_type": "code",
   "execution_count": 29,
   "metadata": {
    "collapsed": false
   },
   "outputs": [
    {
     "name": "stdout",
     "output_type": "stream",
     "text": [
      "<class 'pandas.core.frame.DataFrame'>\n",
      "Int64Index: 403 entries, 638258 to 894819\n",
      "Data columns (total 12 columns):\n",
      "timestamp           403 non-null object\n",
      "vehicle_id          403 non-null int64\n",
      "latitude            403 non-null float64\n",
      "longitude           403 non-null float64\n",
      "bearing             403 non-null float64\n",
      "progress            403 non-null int64\n",
      "service_date        403 non-null int64\n",
      "trip_id             403 non-null object\n",
      "block_assigned      403 non-null int64\n",
      "next_stop_id        403 non-null object\n",
      "dist_along_route    403 non-null object\n",
      "dist_from_stop      403 non-null object\n",
      "dtypes: float64(3), int64(4), object(5)\n",
      "memory usage: 40.9+ KB\n"
     ]
    }
   ],
   "source": [
    "sample_history = pd.concat(historical_data)\n",
    "sample_history.info()"
   ]
  },
  {
   "cell_type": "markdown",
   "metadata": {},
   "source": [
    "## 4. calculate the arrival time for each trip at each sample day"
   ]
  },
  {
   "cell_type": "code",
   "execution_count": 36,
   "metadata": {
    "collapsed": false
   },
   "outputs": [
    {
     "name": "stdout",
     "output_type": "stream",
     "text": [
      "<class 'pandas.core.frame.DataFrame'>\n",
      "Int64Index: 63 entries, 193504 to 193566\n",
      "Data columns (total 7 columns):\n",
      "trip_id           63 non-null object\n",
      "arrival_time      63 non-null object\n",
      "departure_time    63 non-null object\n",
      "stop_id           63 non-null int64\n",
      "stop_sequence     63 non-null int64\n",
      "pickup_type       63 non-null int64\n",
      "drop_off_type     63 non-null int64\n",
      "dtypes: int64(4), object(3)\n",
      "memory usage: 3.9+ KB\n"
     ]
    }
   ],
   "source": [
    "tmp_trip = stop_times[stop_times.trip_id == specific_trip.trip_id]\n",
    "tmp_trip.info()"
   ]
  },
  {
   "cell_type": "code",
   "execution_count": 37,
   "metadata": {
    "collapsed": false
   },
   "outputs": [
    {
     "data": {
      "text/html": [
       "<div>\n",
       "<table border=\"1\" class=\"dataframe\">\n",
       "  <thead>\n",
       "    <tr style=\"text-align: right;\">\n",
       "      <th></th>\n",
       "      <th>trip_id</th>\n",
       "      <th>arrival_time</th>\n",
       "      <th>departure_time</th>\n",
       "      <th>stop_id</th>\n",
       "      <th>stop_sequence</th>\n",
       "      <th>pickup_type</th>\n",
       "      <th>drop_off_type</th>\n",
       "    </tr>\n",
       "  </thead>\n",
       "  <tbody>\n",
       "    <tr>\n",
       "      <th>193504</th>\n",
       "      <td>CA_A6-Weekday-031500_X14_301</td>\n",
       "      <td>05:15:00</td>\n",
       "      <td>05:15:00</td>\n",
       "      <td>905019</td>\n",
       "      <td>1</td>\n",
       "      <td>0</td>\n",
       "      <td>1</td>\n",
       "    </tr>\n",
       "    <tr>\n",
       "      <th>193505</th>\n",
       "      <td>CA_A6-Weekday-031500_X14_301</td>\n",
       "      <td>05:15:47</td>\n",
       "      <td>05:15:47</td>\n",
       "      <td>200316</td>\n",
       "      <td>2</td>\n",
       "      <td>0</td>\n",
       "      <td>1</td>\n",
       "    </tr>\n",
       "    <tr>\n",
       "      <th>193506</th>\n",
       "      <td>CA_A6-Weekday-031500_X14_301</td>\n",
       "      <td>05:16:55</td>\n",
       "      <td>05:16:55</td>\n",
       "      <td>200428</td>\n",
       "      <td>3</td>\n",
       "      <td>0</td>\n",
       "      <td>1</td>\n",
       "    </tr>\n",
       "    <tr>\n",
       "      <th>193507</th>\n",
       "      <td>CA_A6-Weekday-031500_X14_301</td>\n",
       "      <td>05:17:47</td>\n",
       "      <td>05:17:47</td>\n",
       "      <td>203884</td>\n",
       "      <td>4</td>\n",
       "      <td>0</td>\n",
       "      <td>1</td>\n",
       "    </tr>\n",
       "    <tr>\n",
       "      <th>193508</th>\n",
       "      <td>CA_A6-Weekday-031500_X14_301</td>\n",
       "      <td>05:18:10</td>\n",
       "      <td>05:18:10</td>\n",
       "      <td>200430</td>\n",
       "      <td>5</td>\n",
       "      <td>0</td>\n",
       "      <td>1</td>\n",
       "    </tr>\n",
       "  </tbody>\n",
       "</table>\n",
       "</div>"
      ],
      "text/plain": [
       "                             trip_id arrival_time departure_time  stop_id  \\\n",
       "193504  CA_A6-Weekday-031500_X14_301     05:15:00       05:15:00   905019   \n",
       "193505  CA_A6-Weekday-031500_X14_301     05:15:47       05:15:47   200316   \n",
       "193506  CA_A6-Weekday-031500_X14_301     05:16:55       05:16:55   200428   \n",
       "193507  CA_A6-Weekday-031500_X14_301     05:17:47       05:17:47   203884   \n",
       "193508  CA_A6-Weekday-031500_X14_301     05:18:10       05:18:10   200430   \n",
       "\n",
       "        stop_sequence  pickup_type  drop_off_type  \n",
       "193504              1            0              1  \n",
       "193505              2            0              1  \n",
       "193506              3            0              1  \n",
       "193507              4            0              1  \n",
       "193508              5            0              1  "
      ]
     },
     "execution_count": 37,
     "metadata": {},
     "output_type": "execute_result"
    }
   ],
   "source": [
    "tmp_trip.head(5)"
   ]
  },
  {
   "cell_type": "code",
   "execution_count": 40,
   "metadata": {
    "collapsed": false
   },
   "outputs": [
    {
     "name": "stdout",
     "output_type": "stream",
     "text": [
      "[905019, 200316, 200428, 203884, 200430, 203605, 202647, 203809, 201492, 201495, 201497, 201498, 201499, 201730, 203616, 203617, 203810, 203456, 200646, 200715, 202603, 202941, 203052, 200652, 203723, 203724, 203343, 203798, 905020, 805033, 805035, 901114, 805034, 805037, 805039, 805038, 901171, 903205, 405043, 803033, 401666, 903101, 404850, 803074, 803071, 901111, 402143, 402144, 402145, 905030, 400186, 400354, 450040, 404299, 404300, 402227, 402228, 402229, 400744, 404326, 402233, 403986, 803102]\n"
     ]
    }
   ],
   "source": [
    "station_list = list(tmp_trip.stop_id)\n",
    "print station_list"
   ]
  },
  {
   "cell_type": "code",
   "execution_count": 44,
   "metadata": {
    "collapsed": false
   },
   "outputs": [
    {
     "name": "stdout",
     "output_type": "stream",
     "text": [
      "20160208\n",
      "20160217\n",
      "20160218\n",
      "20160219\n"
     ]
    }
   ],
   "source": [
    "idx = 0\n",
    "arrival_station_list = []\n",
    "arrival_time_list = []\n",
    "for item in date_list:\n",
    "    date = item[9:17]\n",
    "    print date\n",
    "    operation_hour = sample_history[sample_history.service_date == int(date)]\n",
    "    for i in xrange(1, len(station_list)):\n",
    "        station = station_list[i - 1]\n",
    "        next_station = station_list[i]\n",
    "        while operation_hour.iloc[idx].next_stop_id != station or operation_hour.iloc[idx + 1].next_stop_id != next_station:\n",
    "            idx += 1\n",
    "        distance_location = float(operation_hour.iloc[idx + 1].dist_along_route) - float(operation_hour.iloc[idx].dist_along_route)\n",
    "        distance_station = float(operation_hour.iloc[idx].dist_from_stop)\n",
    "        ratio = distance_station / distance_location\n",
    "        if ratio < 0:\n",
    "            print station, next_station\n",
    "        time1 = operation_hour.iloc[idx].timestamp\n",
    "        time2 = operation_hour.iloc[idx + 1].timestamp\n",
    "        time_span = calculateTimeSpan(time1, time2)\n",
    "        if ratio > 0:\n",
    "            travel_time = time_span * ratio\n",
    "            print station, next_station, travel_time, time1\n",
    "            arrival_station_list.append(station)"
   ]
  },
  {
   "cell_type": "code",
   "execution_count": null,
   "metadata": {
    "collapsed": true
   },
   "outputs": [],
   "source": []
  }
 ],
 "metadata": {
  "anaconda-cloud": {},
  "kernelspec": {
   "display_name": "Python [default]",
   "language": "python",
   "name": "python2"
  },
  "language_info": {
   "codemirror_mode": {
    "name": "ipython",
    "version": 2
   },
   "file_extension": ".py",
   "mimetype": "text/x-python",
   "name": "python",
   "nbconvert_exporter": "python",
   "pygments_lexer": "ipython2",
   "version": "2.7.12"
  }
 },
 "nbformat": 4,
 "nbformat_minor": 0
}
