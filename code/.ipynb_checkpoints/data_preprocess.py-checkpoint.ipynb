{
 "cells": [
  {
   "cell_type": "markdown",
   "metadata": {},
   "source": [
    "# Preprocess the dataset for obtaining the segments"
   ]
  },
  {
   "cell_type": "markdown",
   "metadata": {},
   "source": [
    "## import the module"
   ]
  },
  {
   "cell_type": "code",
   "execution_count": 1,
   "metadata": {
    "collapsed": true
   },
   "outputs": [],
   "source": [
    "%matplotlib inline\n",
    "import pandas as pd\n",
    "import numpy as np\n",
    "import os\n",
    "import calendar as cal\n",
    "import matplotlib.pyplot as plt"
   ]
  },
  {
   "cell_type": "markdown",
   "metadata": {},
   "source": [
    "## read the GTFS data\n",
    "### generate the route set for choosing\n",
    "Since all the GTFS file has the exactly the same `routes.txt`, which means it covers all the routes, the specific routes in the district should be found in the `trips.txt` file.\n",
    "The GTFS data is: GTFS for state island from Jan, 4, 2016"
   ]
  },
  {
   "cell_type": "code",
   "execution_count": 2,
   "metadata": {
    "collapsed": false
   },
   "outputs": [
    {
     "name": "stdout",
     "output_type": "stream",
     "text": [
      "<class 'pandas.core.frame.DataFrame'>\n",
      "RangeIndex: 15604 entries, 0 to 15603\n",
      "Data columns (total 6 columns):\n",
      "route_id         15604 non-null object\n",
      "service_id       15604 non-null object\n",
      "trip_id          15604 non-null object\n",
      "trip_headsign    15604 non-null object\n",
      "direction_id     15604 non-null int64\n",
      "shape_id         15604 non-null object\n",
      "dtypes: int64(1), object(5)\n",
      "memory usage: 731.5+ KB\n"
     ]
    }
   ],
   "source": [
    "trips = pd.read_csv('../data/GTFS/gtfs/trips.txt')\n",
    "trips.info()"
   ]
  },
  {
   "cell_type": "code",
   "execution_count": 3,
   "metadata": {
    "collapsed": false
   },
   "outputs": [
    {
     "name": "stdout",
     "output_type": "stream",
     "text": [
      "<class 'pandas.core.frame.DataFrame'>\n",
      "RangeIndex: 823708 entries, 0 to 823707\n",
      "Data columns (total 7 columns):\n",
      "trip_id           823708 non-null object\n",
      "arrival_time      823708 non-null object\n",
      "departure_time    823708 non-null object\n",
      "stop_id           823708 non-null int64\n",
      "stop_sequence     823708 non-null int64\n",
      "pickup_type       823708 non-null int64\n",
      "drop_off_type     823708 non-null int64\n",
      "dtypes: int64(4), object(3)\n",
      "memory usage: 44.0+ MB\n"
     ]
    }
   ],
   "source": [
    "stop_times = pd.read_csv('../data/GTFS/gtfs/stop_times.txt')\n",
    "stop_times.info()"
   ]
  },
  {
   "cell_type": "code",
   "execution_count": 4,
   "metadata": {
    "collapsed": false
   },
   "outputs": [],
   "source": [
    "routes = list(set(list(trips.route_id)))"
   ]
  },
  {
   "cell_type": "markdown",
   "metadata": {},
   "source": [
    "select the first five routes as the selected results"
   ]
  },
  {
   "cell_type": "code",
   "execution_count": 5,
   "metadata": {
    "collapsed": false
   },
   "outputs": [
    {
     "ename": "NameError",
     "evalue": "name 'rips' is not defined",
     "output_type": "error",
     "traceback": [
      "\u001b[0;31m---------------------------------------------------------------------------\u001b[0m",
      "\u001b[0;31mNameError\u001b[0m                                 Traceback (most recent call last)",
      "\u001b[0;32m<ipython-input-5-d6428a9bffba>\u001b[0m in \u001b[0;36m<module>\u001b[0;34m()\u001b[0m\n\u001b[1;32m      1\u001b[0m \u001b[0mselect_routes\u001b[0m \u001b[0;34m=\u001b[0m \u001b[0mroutes\u001b[0m\u001b[0;34m[\u001b[0m\u001b[0;34m:\u001b[0m\u001b[0;36m5\u001b[0m\u001b[0;34m]\u001b[0m\u001b[0;34m\u001b[0m\u001b[0m\n\u001b[0;32m----> 2\u001b[0;31m \u001b[0mselect_route\u001b[0m \u001b[0;34m=\u001b[0m \u001b[0mrips\u001b[0m\u001b[0;34m.\u001b[0m\u001b[0miloc\u001b[0m\u001b[0;34m[\u001b[0m\u001b[0;36m0\u001b[0m\u001b[0;34m]\u001b[0m\u001b[0;34m.\u001b[0m\u001b[0mroute_id\u001b[0m\u001b[0;34m\u001b[0m\u001b[0m\n\u001b[0m",
      "\u001b[0;31mNameError\u001b[0m: name 'rips' is not defined"
     ]
    }
   ],
   "source": [
    "select_routes = routes[:5]\n",
    "select_route = trips.iloc[0].route_id"
   ]
  },
  {
   "cell_type": "markdown",
   "metadata": {},
   "source": [
    "obtaine the corresponding trip id"
   ]
  },
  {
   "cell_type": "code",
   "execution_count": null,
   "metadata": {
    "collapsed": false
   },
   "outputs": [],
   "source": [
    "select_trips = list(trips[(trips.route_id == select_route) & (trips.direction_id == 0)].trip_id)\n",
    "print len(select_trips)\n",
    "print select_trips[:3]"
   ]
  },
  {
   "cell_type": "markdown",
   "metadata": {},
   "source": [
    "### generate the date set for choosing\n",
    "generate the file list for choosing"
   ]
  },
  {
   "cell_type": "code",
   "execution_count": null,
   "metadata": {
    "collapsed": false
   },
   "outputs": [],
   "source": [
    "path = '/Users/junwang/Documents/Github/bus_arrival_prediction/data/history/'\n",
    "dirs = os.listdir(path)\n",
    "file_list = []\n",
    "for dir in dirs:\n",
    "    if dir.endswith('.csv'):\n",
    "        file_list.append(dir)\n",
    "print len(file_list)\n",
    "print file_list[:5]"
   ]
  },
  {
   "cell_type": "markdown",
   "metadata": {},
   "source": [
    "select the first month:\n",
    "    `20160104` ~ `20160131`"
   ]
  },
  {
   "cell_type": "markdown",
   "metadata": {},
   "source": [
    "test the history file"
   ]
  },
  {
   "cell_type": "code",
   "execution_count": null,
   "metadata": {
    "collapsed": false
   },
   "outputs": [],
   "source": [
    "test_history = pd.read_csv('../data/history/bus_time_20160104.csv')\n",
    "test_history.info()"
   ]
  },
  {
   "cell_type": "code",
   "execution_count": null,
   "metadata": {
    "collapsed": false
   },
   "outputs": [],
   "source": [
    "test_history.head(5)"
   ]
  },
  {
   "cell_type": "code",
   "execution_count": null,
   "metadata": {
    "collapsed": false
   },
   "outputs": [],
   "source": [
    "for file in file_list:\n",
    "    print file\n",
    "    ptr_history = pd.read_csv('../data/history/' + file)\n",
    "    tmp_history = ptr_history[ptr_history.trip_id.isin(select_trips)]\n",
    "    print len(tmp_history)"
   ]
  },
  {
   "cell_type": "code",
   "execution_count": null,
   "metadata": {
    "collapsed": true
   },
   "outputs": [],
   "source": []
  }
 ],
 "metadata": {
  "anaconda-cloud": {},
  "kernelspec": {
   "display_name": "Python [conda env:py27]",
   "language": "python",
   "name": "conda-env-py27-py"
  },
  "language_info": {
   "codemirror_mode": {
    "name": "ipython",
    "version": 2
   },
   "file_extension": ".py",
   "mimetype": "text/x-python",
   "name": "python",
   "nbconvert_exporter": "python",
   "pygments_lexer": "ipython2",
   "version": "2.7.12"
  }
 },
 "nbformat": 4,
 "nbformat_minor": 1
}
