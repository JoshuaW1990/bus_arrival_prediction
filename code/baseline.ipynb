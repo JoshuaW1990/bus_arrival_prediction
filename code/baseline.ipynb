{
 "cells": [
  {
   "cell_type": "markdown",
   "metadata": {},
   "source": [
    "# Import modules"
   ]
  },
  {
   "cell_type": "code",
   "execution_count": 1,
   "metadata": {
    "collapsed": true
   },
   "outputs": [],
   "source": [
    "%matplotlib inline"
   ]
  },
  {
   "cell_type": "code",
   "execution_count": 2,
   "metadata": {
    "collapsed": true
   },
   "outputs": [],
   "source": [
    "import pandas as pd\n",
    "import numpy as np\n",
    "import csv\n",
    "import os\n",
    "import matplotlib.pyplot as plt"
   ]
  },
  {
   "cell_type": "markdown",
   "metadata": {},
   "source": [
    "# read gtfs reader "
   ]
  },
  {
   "cell_type": "markdown",
   "metadata": {
    "collapsed": true
   },
   "source": [
    "## set path"
   ]
  },
  {
   "cell_type": "code",
   "execution_count": 3,
   "metadata": {
    "collapsed": false
   },
   "outputs": [],
   "source": [
    "file_path = '../data/GTFS/'\n",
    "\n",
    "file_list = []\n",
    "for item in os.listdir(file_path):\n",
    "    if item.startswith('google_transit'):\n",
    "        file_list.append(item)"
   ]
  },
  {
   "cell_type": "code",
   "execution_count": 4,
   "metadata": {
    "collapsed": false
   },
   "outputs": [
    {
     "data": {
      "text/plain": [
       "['google_transit_bronx',\n",
       " 'google_transit_brooklyn',\n",
       " 'google_transit_manhattan',\n",
       " 'google_transit_others',\n",
       " 'google_transit_queens',\n",
       " 'google_transit_staten_island']"
      ]
     },
     "execution_count": 4,
     "metadata": {},
     "output_type": "execute_result"
    }
   ],
   "source": [
    "file_list"
   ]
  },
  {
   "cell_type": "markdown",
   "metadata": {},
   "source": [
    "## read files and concat dataframe"
   ]
  },
  {
   "cell_type": "code",
   "execution_count": 5,
   "metadata": {
    "collapsed": false
   },
   "outputs": [
    {
     "name": "stdout",
     "output_type": "stream",
     "text": [
      "read  google_transit_bronx\n",
      "read  google_transit_brooklyn\n",
      "read  google_transit_manhattan\n",
      "read  google_transit_others\n",
      "read  google_transit_queens\n",
      "read  google_transit_staten_island\n"
     ]
    }
   ],
   "source": [
    "list_trips = []\n",
    "list_stop_times = []\n",
    "for file_name in file_list:\n",
    "    print \"read \", file_name\n",
    "    folder_path = file_path + file_name + '/'\n",
    "    cur_trips = pd.read_csv(folder_path + 'trips.txt')\n",
    "    cur_stop_times = pd.read_csv(folder_path + 'stop_times.txt')\n",
    "    list_trips.append(cur_trips)\n",
    "    list_stop_times.append(cur_stop_times)"
   ]
  },
  {
   "cell_type": "code",
   "execution_count": 6,
   "metadata": {
    "collapsed": false
   },
   "outputs": [],
   "source": [
    "trips = pd.concat(list_trips)\n",
    "stop_times = pd.concat(list_stop_times)"
   ]
  },
  {
   "cell_type": "code",
   "execution_count": 7,
   "metadata": {
    "collapsed": false
   },
   "outputs": [
    {
     "name": "stdout",
     "output_type": "stream",
     "text": [
      "trips:\n",
      "<class 'pandas.core.frame.DataFrame'>\n",
      "Int64Index: 225187 entries, 0 to 15713\n",
      "Data columns (total 7 columns):\n",
      "block_id         43136 non-null float64\n",
      "direction_id     225187 non-null int64\n",
      "route_id         225187 non-null object\n",
      "service_id       225187 non-null object\n",
      "shape_id         225187 non-null object\n",
      "trip_headsign    225187 non-null object\n",
      "trip_id          225187 non-null object\n",
      "dtypes: float64(1), int64(1), object(5)\n",
      "memory usage: 13.7+ MB\n",
      "None\n",
      "\n",
      "stop_times:\n",
      "<class 'pandas.core.frame.DataFrame'>\n",
      "Int64Index: 8795129 entries, 0 to 830937\n",
      "Data columns (total 7 columns):\n",
      "trip_id           object\n",
      "arrival_time      object\n",
      "departure_time    object\n",
      "stop_id           int64\n",
      "stop_sequence     int64\n",
      "pickup_type       int64\n",
      "drop_off_type     int64\n",
      "dtypes: int64(4), object(3)\n",
      "memory usage: 536.8+ MB\n",
      "None\n"
     ]
    }
   ],
   "source": [
    "print \"trips:\"\n",
    "print trips.info()\n",
    "print \"\\nstop_times:\"\n",
    "print stop_times.info()"
   ]
  },
  {
   "cell_type": "code",
   "execution_count": null,
   "metadata": {
    "collapsed": true
   },
   "outputs": [],
   "source": []
  }
 ],
 "metadata": {
  "anaconda-cloud": {},
  "kernelspec": {
   "display_name": "Python [conda env:py27]",
   "language": "python",
   "name": "conda-env-py27-py"
  },
  "language_info": {
   "codemirror_mode": {
    "name": "ipython",
    "version": 2
   },
   "file_extension": ".py",
   "mimetype": "text/x-python",
   "name": "python",
   "nbconvert_exporter": "python",
   "pygments_lexer": "ipython2",
   "version": "2.7.12"
  }
 },
 "nbformat": 4,
 "nbformat_minor": 1
}
