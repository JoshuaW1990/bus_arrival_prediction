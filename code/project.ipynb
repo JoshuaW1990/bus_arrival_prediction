{
 "cells": [
  {
   "cell_type": "code",
   "execution_count": 1,
   "metadata": {
    "collapsed": true,
    "nbpresent": {
     "id": "27a8cf34-6a53-4c64-9bb1-3a2c1d75e6db"
    }
   },
   "outputs": [],
   "source": [
    "import pandas as pd\n",
    "import numpy as np\n",
    "import matplotlib.pyplot as plt"
   ]
  },
  {
   "cell_type": "code",
   "execution_count": null,
   "metadata": {
    "collapsed": true
   },
   "outputs": [],
   "source": []
  },
  {
   "cell_type": "code",
   "execution_count": 10,
   "metadata": {
    "collapsed": true
   },
   "outputs": [],
   "source": [
    "df = pd.read_csv('../data/bus_time_20160101.csv')"
   ]
  },
  {
   "cell_type": "code",
   "execution_count": 11,
   "metadata": {
    "collapsed": false
   },
   "outputs": [
    {
     "name": "stdout",
     "output_type": "stream",
     "text": [
      "<class 'pandas.core.frame.DataFrame'>\n",
      "RangeIndex: 2064900 entries, 0 to 2064899\n",
      "Data columns (total 12 columns):\n",
      "timestamp           object\n",
      "vehicle_id          int64\n",
      "latitude            float64\n",
      "longitude           float64\n",
      "bearing             float64\n",
      "progress            int64\n",
      "service_date        int64\n",
      "trip_id             object\n",
      "block_assigned      int64\n",
      "next_stop_id        object\n",
      "dist_along_route    object\n",
      "dist_from_stop      object\n",
      "dtypes: float64(3), int64(4), object(5)\n",
      "memory usage: 189.0+ MB\n"
     ]
    }
   ],
   "source": [
    "df.info()"
   ]
  },
  {
   "cell_type": "code",
   "execution_count": 12,
   "metadata": {
    "collapsed": false
   },
   "outputs": [
    {
     "data": {
      "text/html": [
       "<div>\n",
       "<table border=\"1\" class=\"dataframe\">\n",
       "  <thead>\n",
       "    <tr style=\"text-align: right;\">\n",
       "      <th></th>\n",
       "      <th>timestamp</th>\n",
       "      <th>vehicle_id</th>\n",
       "      <th>latitude</th>\n",
       "      <th>longitude</th>\n",
       "      <th>bearing</th>\n",
       "      <th>progress</th>\n",
       "      <th>service_date</th>\n",
       "      <th>trip_id</th>\n",
       "      <th>block_assigned</th>\n",
       "      <th>next_stop_id</th>\n",
       "      <th>dist_along_route</th>\n",
       "      <th>dist_from_stop</th>\n",
       "    </tr>\n",
       "  </thead>\n",
       "  <tbody>\n",
       "    <tr>\n",
       "      <th>0</th>\n",
       "      <td>2016-01-01T00:00:01Z</td>\n",
       "      <td>7478</td>\n",
       "      <td>40.765221</td>\n",
       "      <td>-73.887702</td>\n",
       "      <td>169.51</td>\n",
       "      <td>2</td>\n",
       "      <td>20151231</td>\n",
       "      <td>9943210-LGPD5-LG_D5-Weekday-10</td>\n",
       "      <td>1</td>\n",
       "      <td>550624</td>\n",
       "      <td>0.06</td>\n",
       "      <td>0.03</td>\n",
       "    </tr>\n",
       "    <tr>\n",
       "      <th>1</th>\n",
       "      <td>2016-01-01T00:00:02Z</td>\n",
       "      <td>4452</td>\n",
       "      <td>40.541569</td>\n",
       "      <td>-74.209659</td>\n",
       "      <td>183.92</td>\n",
       "      <td>0</td>\n",
       "      <td>20151231</td>\n",
       "      <td>CH_E5-Weekday-108000_S7484_718</td>\n",
       "      <td>1</td>\n",
       "      <td>203521</td>\n",
       "      <td>21081.06</td>\n",
       "      <td>56.67</td>\n",
       "    </tr>\n",
       "    <tr>\n",
       "      <th>2</th>\n",
       "      <td>2016-01-01T00:00:02Z</td>\n",
       "      <td>6495</td>\n",
       "      <td>40.685374</td>\n",
       "      <td>-73.972102</td>\n",
       "      <td>158.04</td>\n",
       "      <td>0</td>\n",
       "      <td>20151231</td>\n",
       "      <td>FP_W5-Weekday-108800_B26_38</td>\n",
       "      <td>1</td>\n",
       "      <td>302426</td>\n",
       "      <td>7672.84</td>\n",
       "      <td>72.25</td>\n",
       "    </tr>\n",
       "  </tbody>\n",
       "</table>\n",
       "</div>"
      ],
      "text/plain": [
       "              timestamp  vehicle_id   latitude  longitude  bearing  progress  \\\n",
       "0  2016-01-01T00:00:01Z        7478  40.765221 -73.887702   169.51         2   \n",
       "1  2016-01-01T00:00:02Z        4452  40.541569 -74.209659   183.92         0   \n",
       "2  2016-01-01T00:00:02Z        6495  40.685374 -73.972102   158.04         0   \n",
       "\n",
       "   service_date                         trip_id  block_assigned next_stop_id  \\\n",
       "0      20151231  9943210-LGPD5-LG_D5-Weekday-10               1       550624   \n",
       "1      20151231  CH_E5-Weekday-108000_S7484_718               1       203521   \n",
       "2      20151231     FP_W5-Weekday-108800_B26_38               1       302426   \n",
       "\n",
       "  dist_along_route dist_from_stop  \n",
       "0             0.06           0.03  \n",
       "1         21081.06          56.67  \n",
       "2          7672.84          72.25  "
      ]
     },
     "execution_count": 12,
     "metadata": {},
     "output_type": "execute_result"
    }
   ],
   "source": [
    "df.head(3)"
   ]
  },
  {
   "cell_type": "code",
   "execution_count": 5,
   "metadata": {
    "collapsed": false
   },
   "outputs": [
    {
     "data": {
      "text/html": [
       "<div>\n",
       "<table border=\"1\" class=\"dataframe\">\n",
       "  <thead>\n",
       "    <tr style=\"text-align: right;\">\n",
       "      <th></th>\n",
       "      <th>timestamp</th>\n",
       "      <th>vehicle_id</th>\n",
       "      <th>latitude</th>\n",
       "      <th>longitude</th>\n",
       "      <th>bearing</th>\n",
       "      <th>progress</th>\n",
       "      <th>service_date</th>\n",
       "      <th>trip_id</th>\n",
       "      <th>block_assigned</th>\n",
       "      <th>next_stop_id</th>\n",
       "      <th>dist_along_route</th>\n",
       "      <th>dist_from_stop</th>\n",
       "    </tr>\n",
       "  </thead>\n",
       "  <tbody>\n",
       "    <tr>\n",
       "      <th>2064897</th>\n",
       "      <td>2016-01-01T23:59:59Z</td>\n",
       "      <td>7720</td>\n",
       "      <td>40.838327</td>\n",
       "      <td>-73.924740</td>\n",
       "      <td>172.99</td>\n",
       "      <td>0</td>\n",
       "      <td>20160101</td>\n",
       "      <td>WF_Y6-Weekday-111000_BX11_31</td>\n",
       "      <td>1</td>\n",
       "      <td>100776</td>\n",
       "      <td>5424.75</td>\n",
       "      <td>50.59</td>\n",
       "    </tr>\n",
       "    <tr>\n",
       "      <th>2064898</th>\n",
       "      <td>2016-01-01T23:59:59Z</td>\n",
       "      <td>7786</td>\n",
       "      <td>40.837526</td>\n",
       "      <td>-73.899699</td>\n",
       "      <td>142.71</td>\n",
       "      <td>0</td>\n",
       "      <td>20160101</td>\n",
       "      <td>WF_Y6-Weekday-112500_BX35_234</td>\n",
       "      <td>1</td>\n",
       "      <td>100764</td>\n",
       "      <td>2890.93</td>\n",
       "      <td>183.35</td>\n",
       "    </tr>\n",
       "    <tr>\n",
       "      <th>2064899</th>\n",
       "      <td>2016-01-01T23:59:59Z</td>\n",
       "      <td>9554</td>\n",
       "      <td>40.703059</td>\n",
       "      <td>-73.742927</td>\n",
       "      <td>194.75</td>\n",
       "      <td>0</td>\n",
       "      <td>20160101</td>\n",
       "      <td>QV_Y6-Weekday-113600_MISC_144</td>\n",
       "      <td>1</td>\n",
       "      <td>503064</td>\n",
       "      <td>1200.19</td>\n",
       "      <td>22.4</td>\n",
       "    </tr>\n",
       "  </tbody>\n",
       "</table>\n",
       "</div>"
      ],
      "text/plain": [
       "                    timestamp  vehicle_id   latitude  longitude  bearing  \\\n",
       "2064897  2016-01-01T23:59:59Z        7720  40.838327 -73.924740   172.99   \n",
       "2064898  2016-01-01T23:59:59Z        7786  40.837526 -73.899699   142.71   \n",
       "2064899  2016-01-01T23:59:59Z        9554  40.703059 -73.742927   194.75   \n",
       "\n",
       "         progress  service_date                        trip_id  \\\n",
       "2064897         0      20160101   WF_Y6-Weekday-111000_BX11_31   \n",
       "2064898         0      20160101  WF_Y6-Weekday-112500_BX35_234   \n",
       "2064899         0      20160101  QV_Y6-Weekday-113600_MISC_144   \n",
       "\n",
       "         block_assigned next_stop_id dist_along_route dist_from_stop  \n",
       "2064897               1       100776          5424.75          50.59  \n",
       "2064898               1       100764          2890.93         183.35  \n",
       "2064899               1       503064          1200.19           22.4  "
      ]
     },
     "execution_count": 5,
     "metadata": {},
     "output_type": "execute_result"
    }
   ],
   "source": [
    "df.tail(3)"
   ]
  },
  {
   "cell_type": "code",
   "execution_count": 13,
   "metadata": {
    "collapsed": false
   },
   "outputs": [],
   "source": [
    "testdf = df[df.vehicle_id == 7720]"
   ]
  },
  {
   "cell_type": "code",
   "execution_count": 21,
   "metadata": {
    "collapsed": false
   },
   "outputs": [
    {
     "data": {
      "text/html": [
       "<div>\n",
       "<table border=\"1\" class=\"dataframe\">\n",
       "  <thead>\n",
       "    <tr style=\"text-align: right;\">\n",
       "      <th></th>\n",
       "      <th>timestamp</th>\n",
       "      <th>vehicle_id</th>\n",
       "      <th>latitude</th>\n",
       "      <th>longitude</th>\n",
       "      <th>bearing</th>\n",
       "      <th>progress</th>\n",
       "      <th>service_date</th>\n",
       "      <th>trip_id</th>\n",
       "      <th>block_assigned</th>\n",
       "      <th>next_stop_id</th>\n",
       "      <th>dist_along_route</th>\n",
       "      <th>dist_from_stop</th>\n",
       "    </tr>\n",
       "  </thead>\n",
       "  <tbody>\n",
       "  </tbody>\n",
       "</table>\n",
       "</div>"
      ],
      "text/plain": [
       "Empty DataFrame\n",
       "Columns: [timestamp, vehicle_id, latitude, longitude, bearing, progress, service_date, trip_id, block_assigned, next_stop_id, dist_along_route, dist_from_stop]\n",
       "Index: []"
      ]
     },
     "execution_count": 21,
     "metadata": {},
     "output_type": "execute_result"
    }
   ],
   "source": [
    "df[df.dist_along_route < 10.0]"
   ]
  },
  {
   "cell_type": "code",
   "execution_count": null,
   "metadata": {
    "collapsed": true
   },
   "outputs": [],
   "source": []
  }
 ],
 "metadata": {
  "anaconda-cloud": {},
  "kernelspec": {
   "display_name": "Python [conda env:py27]",
   "language": "python",
   "name": "conda-env-py27-py"
  },
  "language_info": {
   "codemirror_mode": {
    "name": "ipython",
    "version": 2
   },
   "file_extension": ".py",
   "mimetype": "text/x-python",
   "name": "python",
   "nbconvert_exporter": "python",
   "pygments_lexer": "ipython2",
   "version": "2.7.12"
  },
  "nbpresent": {
   "slides": {
    "418672ed-da8e-424d-b93c-debadd6f7357": {
     "id": "418672ed-da8e-424d-b93c-debadd6f7357",
     "prev": null,
     "regions": {}
    },
    "b0d6348e-c508-42a7-a818-347fa59bdb8a": {
     "id": "b0d6348e-c508-42a7-a818-347fa59bdb8a",
     "layout": "manual",
     "prev": "418672ed-da8e-424d-b93c-debadd6f7357",
     "regions": {
      "008057d3-0544-41ab-be9e-bdc04b5bda6a": {
       "attrs": {
        "height": 0.8,
        "width": 0.8,
        "x": 0.1,
        "y": 0.1
       },
       "id": "008057d3-0544-41ab-be9e-bdc04b5bda6a"
      },
      "14754c8a-3760-4814-8a80-eca16be62438": {
       "attrs": {
        "height": 1,
        "pad": 0.01,
        "treemap:weight": 1,
        "width": 0.5,
        "x": 0,
        "y": 0
       },
       "id": "14754c8a-3760-4814-8a80-eca16be62438"
      },
      "86ba6c1d-2d2e-4a1a-8c8d-ce38476abbe7": {
       "attrs": {
        "height": 1,
        "pad": 0.01,
        "treemap:weight": 1,
        "width": 0.5,
        "x": 0.5,
        "y": 0
       },
       "id": "86ba6c1d-2d2e-4a1a-8c8d-ce38476abbe7"
      }
     }
    }
   },
   "themes": {}
  }
 },
 "nbformat": 4,
 "nbformat_minor": 1
}
