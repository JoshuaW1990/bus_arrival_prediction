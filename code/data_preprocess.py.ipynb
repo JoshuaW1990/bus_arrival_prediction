{
 "cells": [
  {
   "cell_type": "markdown",
   "metadata": {},
   "source": [
    "# Preprocess the dataset for obtaining the segments"
   ]
  },
  {
   "cell_type": "markdown",
   "metadata": {},
   "source": [
    "## import the module"
   ]
  },
  {
   "cell_type": "code",
   "execution_count": 1,
   "metadata": {
    "collapsed": true
   },
   "outputs": [],
   "source": [
    "%matplotlib inline\n",
    "import pandas as pd\n",
    "import numpy as np\n",
    "import os\n",
    "import calendar as cal\n",
    "import matplotlib.pyplot as plt"
   ]
  },
  {
   "cell_type": "markdown",
   "metadata": {},
   "source": [
    "## read the GTFS data\n",
    "### generate the route set for choosing\n",
    "Since all the GTFS file has the exactly the same `routes.txt`, which means it covers all the routes, the specific routes in the district should be found in the `trips.txt` file.\n",
    "The GTFS data is: GTFS for state island from Jan, 4, 2016"
   ]
  },
  {
   "cell_type": "code",
   "execution_count": 2,
   "metadata": {
    "collapsed": false
   },
   "outputs": [
    {
     "name": "stdout",
     "output_type": "stream",
     "text": [
      "<class 'pandas.core.frame.DataFrame'>\n",
      "RangeIndex: 15604 entries, 0 to 15603\n",
      "Data columns (total 6 columns):\n",
      "route_id         15604 non-null object\n",
      "service_id       15604 non-null object\n",
      "trip_id          15604 non-null object\n",
      "trip_headsign    15604 non-null object\n",
      "direction_id     15604 non-null int64\n",
      "shape_id         15604 non-null object\n",
      "dtypes: int64(1), object(5)\n",
      "memory usage: 731.5+ KB\n"
     ]
    }
   ],
   "source": [
    "trips = pd.read_csv('../data/GTFS/gtfs/trips.txt')\n",
    "trips.info()"
   ]
  },
  {
   "cell_type": "code",
   "execution_count": 3,
   "metadata": {
    "collapsed": false
   },
   "outputs": [
    {
     "name": "stdout",
     "output_type": "stream",
     "text": [
      "<class 'pandas.core.frame.DataFrame'>\n",
      "RangeIndex: 823708 entries, 0 to 823707\n",
      "Data columns (total 7 columns):\n",
      "trip_id           823708 non-null object\n",
      "arrival_time      823708 non-null object\n",
      "departure_time    823708 non-null object\n",
      "stop_id           823708 non-null int64\n",
      "stop_sequence     823708 non-null int64\n",
      "pickup_type       823708 non-null int64\n",
      "drop_off_type     823708 non-null int64\n",
      "dtypes: int64(4), object(3)\n",
      "memory usage: 44.0+ MB\n"
     ]
    }
   ],
   "source": [
    "stop_times = pd.read_csv('../data/GTFS/gtfs/stop_times.txt')\n",
    "stop_times.info()"
   ]
  },
  {
   "cell_type": "code",
   "execution_count": 4,
   "metadata": {
    "collapsed": false
   },
   "outputs": [],
   "source": [
    "routes = list(set(list(trips.route_id)))"
   ]
  },
  {
   "cell_type": "markdown",
   "metadata": {},
   "source": [
    "select the first five routes as the selected results"
   ]
  },
  {
   "cell_type": "code",
   "execution_count": 5,
   "metadata": {
    "collapsed": false
   },
   "outputs": [],
   "source": [
    "select_routes = routes[:5]\n",
    "select_route = trips.iloc[0].route_id"
   ]
  },
  {
   "cell_type": "markdown",
   "metadata": {},
   "source": [
    "obtaine the corresponding trip id"
   ]
  },
  {
   "cell_type": "code",
   "execution_count": 6,
   "metadata": {
    "collapsed": false
   },
   "outputs": [
    {
     "name": "stdout",
     "output_type": "stream",
     "text": [
      "44\n",
      "['CA_H6-Weekday-031500_MISC_402', 'CA_H6-Weekday-037500_MISC_461', 'CA_H6-Weekday-041500_MISC_481']\n"
     ]
    }
   ],
   "source": [
    "select_trips = list(trips[(trips.route_id == select_route) & (trips.direction_id == 0)].trip_id)\n",
    "print len(select_trips)\n",
    "print select_trips[:3]"
   ]
  },
  {
   "cell_type": "markdown",
   "metadata": {},
   "source": [
    "### generate the date set for choosing\n",
    "generate the file list for choosing"
   ]
  },
  {
   "cell_type": "code",
   "execution_count": 7,
   "metadata": {
    "collapsed": false
   },
   "outputs": [
    {
     "name": "stdout",
     "output_type": "stream",
     "text": [
      "57\n",
      "['bus_time_20160104.csv', 'bus_time_20160105.csv', 'bus_time_20160106.csv', 'bus_time_20160107.csv', 'bus_time_20160108.csv']\n"
     ]
    }
   ],
   "source": [
    "path = '/Users/junwang/Documents/Github/bus_arrival_prediction/data/history/'\n",
    "dirs = os.listdir(path)\n",
    "file_list = []\n",
    "for dir in dirs:\n",
    "    if dir.endswith('.csv'):\n",
    "        file_list.append(dir)\n",
    "print len(file_list)\n",
    "print file_list[:5]"
   ]
  },
  {
   "cell_type": "markdown",
   "metadata": {},
   "source": [
    "select the first month:\n",
    "    `20160104` ~ `20160131`"
   ]
  },
  {
   "cell_type": "markdown",
   "metadata": {},
   "source": [
    "test the history file"
   ]
  },
  {
   "cell_type": "code",
   "execution_count": 8,
   "metadata": {
    "collapsed": false
   },
   "outputs": [
    {
     "name": "stderr",
     "output_type": "stream",
     "text": [
      "/Users/junwang/miniconda2/envs/py27/lib/python2.7/site-packages/IPython/core/interactiveshell.py:2717: DtypeWarning: Columns (9,10,11) have mixed types. Specify dtype option on import or set low_memory=False.\n",
      "  interactivity=interactivity, compiler=compiler, result=result)\n"
     ]
    },
    {
     "name": "stdout",
     "output_type": "stream",
     "text": [
      "<class 'pandas.core.frame.DataFrame'>\n",
      "RangeIndex: 3082617 entries, 0 to 3082616\n",
      "Data columns (total 12 columns):\n",
      "timestamp           object\n",
      "vehicle_id          int64\n",
      "latitude            float64\n",
      "longitude           float64\n",
      "bearing             float64\n",
      "progress            int64\n",
      "service_date        int64\n",
      "trip_id             object\n",
      "block_assigned      int64\n",
      "next_stop_id        object\n",
      "dist_along_route    object\n",
      "dist_from_stop      object\n",
      "dtypes: float64(3), int64(4), object(5)\n",
      "memory usage: 282.2+ MB\n"
     ]
    }
   ],
   "source": [
    "test_history = pd.read_csv('../data/history/bus_time_20160104.csv')\n",
    "test_history.info()"
   ]
  },
  {
   "cell_type": "code",
   "execution_count": 9,
   "metadata": {
    "collapsed": false
   },
   "outputs": [
    {
     "data": {
      "text/html": [
       "<div>\n",
       "<table border=\"1\" class=\"dataframe\">\n",
       "  <thead>\n",
       "    <tr style=\"text-align: right;\">\n",
       "      <th></th>\n",
       "      <th>timestamp</th>\n",
       "      <th>vehicle_id</th>\n",
       "      <th>latitude</th>\n",
       "      <th>longitude</th>\n",
       "      <th>bearing</th>\n",
       "      <th>progress</th>\n",
       "      <th>service_date</th>\n",
       "      <th>trip_id</th>\n",
       "      <th>block_assigned</th>\n",
       "      <th>next_stop_id</th>\n",
       "      <th>dist_along_route</th>\n",
       "      <th>dist_from_stop</th>\n",
       "    </tr>\n",
       "  </thead>\n",
       "  <tbody>\n",
       "    <tr>\n",
       "      <th>0</th>\n",
       "      <td>2016-01-04T00:00:00Z</td>\n",
       "      <td>276</td>\n",
       "      <td>40.835108</td>\n",
       "      <td>-73.867750</td>\n",
       "      <td>343.64</td>\n",
       "      <td>0</td>\n",
       "      <td>20160103</td>\n",
       "      <td>WF_A6-Sunday-107000_BX36_166</td>\n",
       "      <td>1</td>\n",
       "      <td>103900</td>\n",
       "      <td>9792.33</td>\n",
       "      <td>43.99</td>\n",
       "    </tr>\n",
       "    <tr>\n",
       "      <th>1</th>\n",
       "      <td>2016-01-04T00:00:00Z</td>\n",
       "      <td>318</td>\n",
       "      <td>40.835946</td>\n",
       "      <td>-73.883579</td>\n",
       "      <td>340.92</td>\n",
       "      <td>0</td>\n",
       "      <td>20160103</td>\n",
       "      <td>WF_A6-Sunday-108500_BX36_159</td>\n",
       "      <td>1</td>\n",
       "      <td>102387</td>\n",
       "      <td>8705.34</td>\n",
       "      <td>439.21</td>\n",
       "    </tr>\n",
       "    <tr>\n",
       "      <th>2</th>\n",
       "      <td>2016-01-04T00:00:00Z</td>\n",
       "      <td>601</td>\n",
       "      <td>40.723844</td>\n",
       "      <td>-73.804858</td>\n",
       "      <td>275.72</td>\n",
       "      <td>0</td>\n",
       "      <td>20160103</td>\n",
       "      <td>11093232-CPPA6-CP_A6-Sunday-10</td>\n",
       "      <td>1</td>\n",
       "      <td>551806</td>\n",
       "      <td>10922.15</td>\n",
       "      <td>37.06</td>\n",
       "    </tr>\n",
       "    <tr>\n",
       "      <th>3</th>\n",
       "      <td>2016-01-04T00:00:00Z</td>\n",
       "      <td>618</td>\n",
       "      <td>40.792042</td>\n",
       "      <td>-73.850391</td>\n",
       "      <td>203.45</td>\n",
       "      <td>2</td>\n",
       "      <td>20160103</td>\n",
       "      <td>11093434-CPPA6-CP_A6-Sunday-10</td>\n",
       "      <td>1</td>\n",
       "      <td>553292</td>\n",
       "      <td>13474.09</td>\n",
       "      <td>25.03</td>\n",
       "    </tr>\n",
       "    <tr>\n",
       "      <th>4</th>\n",
       "      <td>2016-01-04T00:00:00Z</td>\n",
       "      <td>1228</td>\n",
       "      <td>40.824188</td>\n",
       "      <td>-73.825813</td>\n",
       "      <td>206.11</td>\n",
       "      <td>0</td>\n",
       "      <td>20160103</td>\n",
       "      <td>GH_A6-Sunday-108500_BX44A_113</td>\n",
       "      <td>0</td>\n",
       "      <td>102615</td>\n",
       "      <td>11236.35</td>\n",
       "      <td>259.23</td>\n",
       "    </tr>\n",
       "  </tbody>\n",
       "</table>\n",
       "</div>"
      ],
      "text/plain": [
       "              timestamp  vehicle_id   latitude  longitude  bearing  progress  \\\n",
       "0  2016-01-04T00:00:00Z         276  40.835108 -73.867750   343.64         0   \n",
       "1  2016-01-04T00:00:00Z         318  40.835946 -73.883579   340.92         0   \n",
       "2  2016-01-04T00:00:00Z         601  40.723844 -73.804858   275.72         0   \n",
       "3  2016-01-04T00:00:00Z         618  40.792042 -73.850391   203.45         2   \n",
       "4  2016-01-04T00:00:00Z        1228  40.824188 -73.825813   206.11         0   \n",
       "\n",
       "   service_date                         trip_id  block_assigned next_stop_id  \\\n",
       "0      20160103    WF_A6-Sunday-107000_BX36_166               1       103900   \n",
       "1      20160103    WF_A6-Sunday-108500_BX36_159               1       102387   \n",
       "2      20160103  11093232-CPPA6-CP_A6-Sunday-10               1       551806   \n",
       "3      20160103  11093434-CPPA6-CP_A6-Sunday-10               1       553292   \n",
       "4      20160103   GH_A6-Sunday-108500_BX44A_113               0       102615   \n",
       "\n",
       "  dist_along_route dist_from_stop  \n",
       "0          9792.33          43.99  \n",
       "1          8705.34         439.21  \n",
       "2         10922.15          37.06  \n",
       "3         13474.09          25.03  \n",
       "4         11236.35         259.23  "
      ]
     },
     "execution_count": 9,
     "metadata": {},
     "output_type": "execute_result"
    }
   ],
   "source": [
    "test_history.head(5)"
   ]
  },
  {
   "cell_type": "code",
   "execution_count": 10,
   "metadata": {
    "collapsed": false
   },
   "outputs": [
    {
     "name": "stdout",
     "output_type": "stream",
     "text": [
      "bus_time_20160104.csv\n",
      "1530\n",
      "bus_time_20160105.csv\n",
      "2105\n",
      "bus_time_20160106.csv\n",
      "1989\n",
      "bus_time_20160107.csv\n",
      "2327\n",
      "bus_time_20160108.csv\n",
      "1857\n",
      "bus_time_20160109.csv\n",
      "0\n",
      "bus_time_20160110.csv\n",
      "0\n",
      "bus_time_20160111.csv\n",
      "1943\n",
      "bus_time_20160112.csv\n",
      "2018\n",
      "bus_time_20160113.csv\n",
      "1864\n",
      "bus_time_20160114.csv\n",
      "1705\n",
      "bus_time_20160115.csv\n",
      "1552\n",
      "bus_time_20160116.csv\n",
      "0\n",
      "bus_time_20160117.csv\n",
      "0\n",
      "bus_time_20160118.csv\n",
      "811\n",
      "bus_time_20160119.csv\n",
      "1938\n",
      "bus_time_20160120.csv\n",
      "1953\n",
      "bus_time_20160121.csv\n",
      "1934\n",
      "bus_time_20160122.csv\n",
      "1807\n",
      "bus_time_20160123.csv\n",
      "0\n",
      "bus_time_20160124.csv\n",
      "0\n",
      "bus_time_20160125.csv\n",
      "1540\n",
      "bus_time_20160126.csv\n",
      "2322\n",
      "bus_time_20160127.csv\n",
      "2144\n",
      "bus_time_20160128.csv\n",
      "2047\n",
      "bus_time_20160129.csv\n",
      "1941\n",
      "bus_time_20160130.csv\n",
      "0\n",
      "bus_time_20160131.csv\n",
      "0\n",
      "bus_time_20160201.csv\n",
      "2120\n",
      "bus_time_20160202.csv\n",
      "2047\n",
      "bus_time_20160203.csv\n",
      "1951\n",
      "bus_time_20160204.csv\n",
      "2234\n",
      "bus_time_20160205.csv\n",
      "2292\n",
      "bus_time_20160206.csv\n",
      "0\n",
      "bus_time_20160207.csv\n",
      "0\n",
      "bus_time_20160208.csv\n",
      "1624\n",
      "bus_time_20160209.csv\n",
      "1947\n",
      "bus_time_20160210.csv\n",
      "1706\n",
      "bus_time_20160211.csv\n",
      "2290\n",
      "bus_time_20160212.csv\n",
      "1881\n",
      "bus_time_20160213.csv\n",
      "0\n",
      "bus_time_20160214.csv\n",
      "0\n",
      "bus_time_20160215.csv\n",
      "0\n",
      "bus_time_20160216.csv\n",
      "1651\n",
      "bus_time_20160217.csv\n",
      "1490\n",
      "bus_time_20160218.csv\n",
      "1592\n",
      "bus_time_20160219.csv\n",
      "1539\n",
      "bus_time_20160220.csv\n",
      "0\n",
      "bus_time_20160221.csv\n",
      "0\n",
      "bus_time_20160222.csv\n",
      "1933\n",
      "bus_time_20160223.csv\n",
      "1662\n",
      "bus_time_20160224.csv\n",
      "1979\n",
      "bus_time_20160225.csv\n",
      "1744\n",
      "bus_time_20160226.csv\n",
      "1715\n",
      "bus_time_20160227.csv\n",
      "0\n",
      "bus_time_20160228.csv\n",
      "0\n",
      "bus_time_20160229.csv\n",
      "1771\n"
     ]
    }
   ],
   "source": [
    "for file in file_list:\n",
    "    print file\n",
    "    ptr_history = pd.read_csv('../data/history/' + file)\n",
    "    tmp_history = ptr_history[ptr_history.trip_id.isin(select_trips)]\n",
    "    print len(tmp_history)"
   ]
  },
  {
   "cell_type": "code",
   "execution_count": null,
   "metadata": {
    "collapsed": true
   },
   "outputs": [],
   "source": []
  }
 ],
 "metadata": {
  "anaconda-cloud": {},
  "kernelspec": {
   "display_name": "Python [conda env:py27]",
   "language": "python",
   "name": "conda-env-py27-py"
  },
  "language_info": {
   "codemirror_mode": {
    "name": "ipython",
    "version": 2
   },
   "file_extension": ".py",
   "mimetype": "text/x-python",
   "name": "python",
   "nbconvert_exporter": "python",
   "pygments_lexer": "ipython2",
   "version": "2.7.12"
  }
 },
 "nbformat": 4,
 "nbformat_minor": 1
}
